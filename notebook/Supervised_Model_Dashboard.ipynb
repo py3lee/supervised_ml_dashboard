{
 "cells": [
  {
   "cell_type": "code",
   "execution_count": 1,
   "id": "80770b46",
   "metadata": {
    "ExecuteTime": {
     "end_time": "2021-10-13T13:22:33.685851Z",
     "start_time": "2021-10-13T13:22:32.648194Z"
    }
   },
   "outputs": [],
   "source": [
    "# Run cell to hide verbose output from AutoML\n",
    "import logging\n",
    "from flaml import logger\n",
    "logger.setLevel(logging.WARNING)"
   ]
  },
  {
   "cell_type": "code",
   "execution_count": 2,
   "id": "822655ae",
   "metadata": {
    "ExecuteTime": {
     "end_time": "2021-10-13T13:22:34.382501Z",
     "start_time": "2021-10-13T13:22:33.686639Z"
    },
    "code_folding": [],
    "scrolled": false
   },
   "outputs": [
    {
     "data": {
      "application/vnd.jupyter.widget-view+json": {
       "model_id": "0dda255779c14fc29bb49b32de2eafb6",
       "version_major": 2,
       "version_minor": 0
      },
      "text/plain": [
       "VBox(children=(HTML(value='\\n\\n        <h2 style=\"text-align:center;\">Supervised Model Evaluation</h2>\\n\\n    …"
      ]
     },
     "metadata": {},
     "output_type": "display_data"
    }
   ],
   "source": [
    "import sys\n",
    "from pathlib import Path\n",
    "import pandas as pd\n",
    "\n",
    "#################\n",
    "# Custom import #\n",
    "#################\n",
    "\n",
    "dir_path = Path.cwd().parents[0]\n",
    "sys.path.insert(0, str(dir_path))\n",
    "\n",
    "from config import config as cfg\n",
    "from src.visualization.voila_dashboard import Dashboard\n",
    "\n",
    "################\n",
    "# Load dataset #\n",
    "################\n",
    "\n",
    "df_path = Path.cwd().parents[0] / cfg.FILEPATH.get(\"model_filepath\")\n",
    "df = pd.read_csv(df_path)\n",
    "\n",
    "#########################################\n",
    "# Display Supervised Modelling Dashboard \n",
    "#########################################\n",
    "\n",
    "dashboard = Dashboard(\n",
    "    df = df, \n",
    "    target = cfg.TARGET,\n",
    "    n_samples = cfg.N_SAMPLES, \n",
    "    cfg = cfg\n",
    ")"
   ]
  },
  {
   "cell_type": "code",
   "execution_count": null,
   "id": "5ca686cc",
   "metadata": {},
   "outputs": [],
   "source": []
  }
 ],
 "metadata": {
  "hide_input": false,
  "kernelspec": {
   "display_name": "Python 3",
   "language": "python",
   "name": "python3"
  },
  "language_info": {
   "codemirror_mode": {
    "name": "ipython",
    "version": 3
   },
   "file_extension": ".py",
   "mimetype": "text/x-python",
   "name": "python",
   "nbconvert_exporter": "python",
   "pygments_lexer": "ipython3",
   "version": "3.7.10"
  },
  "toc": {
   "base_numbering": 1,
   "nav_menu": {},
   "number_sections": true,
   "sideBar": true,
   "skip_h1_title": false,
   "title_cell": "Table of Contents",
   "title_sidebar": "Contents",
   "toc_cell": true,
   "toc_position": {},
   "toc_section_display": true,
   "toc_window_display": false
  }
 },
 "nbformat": 4,
 "nbformat_minor": 5
}
