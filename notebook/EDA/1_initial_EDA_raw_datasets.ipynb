{
 "cells": [
  {
   "cell_type": "markdown",
   "id": "65b29e16",
   "metadata": {
    "toc": true
   },
   "source": [
    "<h1>Table of Contents<span class=\"tocSkip\"></span></h1>\n",
    "<div class=\"toc\"><ul class=\"toc-item\"><li><span><a href=\"#Introduction\" data-toc-modified-id=\"Introduction-1\"><span class=\"toc-item-num\">1&nbsp;&nbsp;</span><strong>Introduction</strong></a></span><ul class=\"toc-item\"><li><span><a href=\"#Dataset_limitations\" data-toc-modified-id=\"Dataset_limitations-1.1\"><span class=\"toc-item-num\">1.1&nbsp;&nbsp;</span>Dataset_limitations</a></span></li><li><span><a href=\"#Primary_problem_statement*\" data-toc-modified-id=\"Primary_problem_statement*-1.2\"><span class=\"toc-item-num\">1.2&nbsp;&nbsp;</span>Primary_problem_statement*</a></span></li><li><span><a href=\"#Raw-dataset\" data-toc-modified-id=\"Raw-dataset-1.3\"><span class=\"toc-item-num\">1.3&nbsp;&nbsp;</span>Raw dataset</a></span></li><li><span><a href=\"#Data-dictionary\" data-toc-modified-id=\"Data-dictionary-1.4\"><span class=\"toc-item-num\">1.4&nbsp;&nbsp;</span>Data dictionary</a></span></li></ul></li><li><span><a href=\"#Import-libraries\" data-toc-modified-id=\"Import-libraries-2\"><span class=\"toc-item-num\">2&nbsp;&nbsp;</span>Import libraries</a></span></li><li><span><a href=\"#Define-functions\" data-toc-modified-id=\"Define-functions-3\"><span class=\"toc-item-num\">3&nbsp;&nbsp;</span>Define functions</a></span></li><li><span><a href=\"#Import-datasets\" data-toc-modified-id=\"Import-datasets-4\"><span class=\"toc-item-num\">4&nbsp;&nbsp;</span>Import datasets</a></span></li><li><span><a href=\"#vax_df\" data-toc-modified-id=\"vax_df-5\"><span class=\"toc-item-num\">5&nbsp;&nbsp;</span>vax_df</a></span><ul class=\"toc-item\"><li><span><a href=\"#Inspect-dataset\" data-toc-modified-id=\"Inspect-dataset-5.1\"><span class=\"toc-item-num\">5.1&nbsp;&nbsp;</span>Inspect dataset</a></span></li><li><span><a href=\"#Missing-values\" data-toc-modified-id=\"Missing-values-5.2\"><span class=\"toc-item-num\">5.2&nbsp;&nbsp;</span>Missing values</a></span><ul class=\"toc-item\"><li><span><a href=\"#Check-missing-values-per-column-(bar-chart)\" data-toc-modified-id=\"Check-missing-values-per-column-(bar-chart)-5.2.1\"><span class=\"toc-item-num\">5.2.1&nbsp;&nbsp;</span>Check missing values per column (bar chart)</a></span></li><li><span><a href=\"#Are-there-any-patterns-of-missingness-in-this-dataset?\" data-toc-modified-id=\"Are-there-any-patterns-of-missingness-in-this-dataset?-5.2.2\"><span class=\"toc-item-num\">5.2.2&nbsp;&nbsp;</span>Are there any patterns of missingness in this dataset?</a></span></li></ul></li><li><span><a href=\"#Number-of-unique-values-for-each-column\" data-toc-modified-id=\"Number-of-unique-values-for-each-column-5.3\"><span class=\"toc-item-num\">5.3&nbsp;&nbsp;</span>Number of unique values for each column</a></span></li><li><span><a href=\"#Duplicates\" data-toc-modified-id=\"Duplicates-5.4\"><span class=\"toc-item-num\">5.4&nbsp;&nbsp;</span>Duplicates</a></span></li><li><span><a href=\"#Data-cleaning-for-vax_df-prior-to-merging-into-one-main-df\" data-toc-modified-id=\"Data-cleaning-for-vax_df-prior-to-merging-into-one-main-df-5.5\"><span class=\"toc-item-num\">5.5&nbsp;&nbsp;</span>Data cleaning for vax_df prior to merging into one main df</a></span></li></ul></li><li><span><a href=\"#symp_df\" data-toc-modified-id=\"symp_df-6\"><span class=\"toc-item-num\">6&nbsp;&nbsp;</span>symp_df</a></span><ul class=\"toc-item\"><li><span><a href=\"#Inspect-dataset\" data-toc-modified-id=\"Inspect-dataset-6.1\"><span class=\"toc-item-num\">6.1&nbsp;&nbsp;</span>Inspect dataset</a></span></li><li><span><a href=\"#Missing-values\" data-toc-modified-id=\"Missing-values-6.2\"><span class=\"toc-item-num\">6.2&nbsp;&nbsp;</span>Missing values</a></span><ul class=\"toc-item\"><li><span><a href=\"#Check-missing-values-per-column-(bar-chart)\" data-toc-modified-id=\"Check-missing-values-per-column-(bar-chart)-6.2.1\"><span class=\"toc-item-num\">6.2.1&nbsp;&nbsp;</span>Check missing values per column (bar chart)</a></span></li><li><span><a href=\"#Are-there-any-patterns-of-missingness-in-this-dataset?\" data-toc-modified-id=\"Are-there-any-patterns-of-missingness-in-this-dataset?-6.2.2\"><span class=\"toc-item-num\">6.2.2&nbsp;&nbsp;</span>Are there any patterns of missingness in this dataset?</a></span></li></ul></li><li><span><a href=\"#Number-of-unique-values-for-each-column\" data-toc-modified-id=\"Number-of-unique-values-for-each-column-6.3\"><span class=\"toc-item-num\">6.3&nbsp;&nbsp;</span>Number of unique values for each column</a></span></li><li><span><a href=\"#Duplicates\" data-toc-modified-id=\"Duplicates-6.4\"><span class=\"toc-item-num\">6.4&nbsp;&nbsp;</span>Duplicates</a></span></li><li><span><a href=\"#Data-cleaning-for-symp_df-prior-to-merging-into-one-main-df\" data-toc-modified-id=\"Data-cleaning-for-symp_df-prior-to-merging-into-one-main-df-6.5\"><span class=\"toc-item-num\">6.5&nbsp;&nbsp;</span>Data cleaning for symp_df prior to merging into one main df</a></span></li></ul></li><li><span><a href=\"#main_df\" data-toc-modified-id=\"main_df-7\"><span class=\"toc-item-num\">7&nbsp;&nbsp;</span>main_df</a></span><ul class=\"toc-item\"><li><span><a href=\"#Inspect-dataset\" data-toc-modified-id=\"Inspect-dataset-7.1\"><span class=\"toc-item-num\">7.1&nbsp;&nbsp;</span>Inspect dataset</a></span></li><li><span><a href=\"#Missing-values\" data-toc-modified-id=\"Missing-values-7.2\"><span class=\"toc-item-num\">7.2&nbsp;&nbsp;</span>Missing values</a></span></li><li><span><a href=\"#Number-of-unique-values-per-column\" data-toc-modified-id=\"Number-of-unique-values-per-column-7.3\"><span class=\"toc-item-num\">7.3&nbsp;&nbsp;</span>Number of unique values per column</a></span></li><li><span><a href=\"#Duplicates\" data-toc-modified-id=\"Duplicates-7.4\"><span class=\"toc-item-num\">7.4&nbsp;&nbsp;</span>Duplicates</a></span></li><li><span><a href=\"#Check-date-range\" data-toc-modified-id=\"Check-date-range-7.5\"><span class=\"toc-item-num\">7.5&nbsp;&nbsp;</span>Check date range</a></span></li><li><span><a href=\"#Steps-for-main_df-prior-to-merging-into-one-main-df-with-vax_df-and-symp_df\" data-toc-modified-id=\"Steps-for-main_df-prior-to-merging-into-one-main-df-with-vax_df-and-symp_df-7.6\"><span class=\"toc-item-num\">7.6&nbsp;&nbsp;</span>Steps for main_df prior to merging into one main df with vax_df and symp_df</a></span></li></ul></li></ul></div>"
   ]
  },
  {
   "cell_type": "markdown",
   "id": "d28723d9",
   "metadata": {},
   "source": [
    "# **Introduction**\n",
    "\n",
    "[Vaccine Adverse Event Reporting System (VAERS)](https://vaers.hhs.gov/about.html) is a national early warning system to detect possible safety problems in U.S.-licensed vaccines. \n",
    "\n",
    "- It is a passive reporting system  \n",
    "\n",
    "  - reports about adverse events are not automatically collected, but require a report to be filed to VAERS\n",
    "\n",
    "- Healthcare providers, vaccine manufacturers, and the public can submit reports to the system  \n",
    "\n",
    "- A report often involves more than one vaccine and may involve more than one reported adverse event  \n",
    "\n",
    "- VAERS is not designed to determine if a vaccine caused a health problem, but is especially useful for detecting unusual or unexpected patterns of adverse event reporting that might indicate a possible safety problem with a vaccine.  \n",
    "\n",
    "  \n",
    "\n",
    "\n",
    "**What this system is designed for:**\n",
    "\n",
    "VAERS is designed to rapidly detect unusual or unexpected patterns of adverse events (also known as “safety signals.”)\n",
    "\n",
    "- If a safety signal is found in VAERS, further studies can be done in safety systems such as:\n",
    "  - CDC’s Vaccine Safety Datalink (VSD) or \n",
    "  - Clinical Immunization Safety Assessment (CISA) project  \n",
    "\n",
    "---\n",
    "\n",
    "\n",
    "## Dataset_limitations\n",
    "\n",
    "From the [Disclaimer](https://vaers.hhs.gov/data.html) and [VAERS dataset limitations](https://vaers.hhs.gov/data/dataguide.html):\n",
    "\n",
    "- The reports may contain information that is incomplete, inaccurate, coincidental, or unverifiable.  \n",
    "- reports to VAERS are **voluntary**  \n",
    "\n",
    "  - There is no need for any proof that the event was caused by the vaccine in order for VAERS to accept the report. \n",
    "\n",
    "  - VAERS accepts all reports (be it coincidental or truly caused by a vaccine) without judging whether the event was caused by the vaccine.\n",
    "\n",
    "- The number of reports alone cannot be interpreted or used to reach conclusions about the existence, severity, frequency, or rates of problems associated with vaccines.  \n",
    "\n",
    "\n",
    "- VAERS data:\n",
    "  - is limited to vaccine adverse event reports received between 1990 and the most recent date for which data are available.  \n",
    "  - **do not represent all known safety information for a vaccine** and should be interpreted in the context of other scientific information.\n",
    "\n",
    "  - VAERS data available to the public include only the **initial report data** to VAERS. \n",
    "    - Updated data which contains data from medical records and corrections reported during follow up are used by the government for analysis. \n",
    "    - However, for numerous reasons including data consistency, these amended data are not available to the public.\n",
    "\n",
    "---\n",
    "\n",
    "\n",
    "## Primary_problem_statement*\n",
    "\n",
    "Can we predict whether a mRNA vaccine recipient (reporting to VAERS) will experience a serious adverse side effect?\n",
    "A serious adverse side effect is defined as any one of the following:\n",
    "\n",
    "- if the vaccine recipient died,  \n",
    "- if the vaccine recipient had a life threatening illness,  \n",
    "- if the vaccine recipient had to be hospitalised as a result of the vaccination,  \n",
    "- if the vaccine recipient's existing hospitalisation is prolonged as a result of the vaccination,  \n",
    "- if the vaccine recipient was disabled,  \n",
    "- if the vaccine recipient required a visit to the Emergency Department,  \n",
    "- if the vaccine recipient experienced cardiac symptoms,  \n",
    "- if the vaccine recipient experienced any serious (type 1 hypersensitivity) allergic reactions  \n",
    "\n",
    "\n",
    "**in view of the above [limitations](#Dataset_limitations) of the dataset (especially the point that VAERS data do not represent all known safety information for a vaccine), there would be limited utility of the constructed predictive model. However, this repository is just meant to show the required preprocessing steps and pipeline contruction. This final supervised model dashboard is generic and able to display classification and regression models.* \n",
    "\n",
    "\n",
    "## Raw dataset \n",
    "\n",
    "Original data source: https://vaers.hhs.gov/data/datasets.html  \n",
    "\n",
    "3 datasets: \n",
    "\n",
    "  1. VAERSDATA.CSV: VAERS report details organised by VAERS report Identification Number (VAERS_ID) as key variable     \n",
    "\n",
    "  2. VAERSVAX.CSV: vaccine details, organised by VAERS report Identification Number (VAERS_ID) as key variable  \n",
    "\n",
    "  3. VAERSSYMPTOMS.CSV: symptom details, organised by VAERS report Identification Number (VAERS_ID) as key variable\n",
    "     \n",
    "\n",
    "**Dataset duration**: VAERS reports from 1 Jan 2021 to 31 Mar 2021    \n",
    "\n",
    "\n",
    "## Data dictionary \n",
    "\n",
    "- [Data dictionary](https://vaers.hhs.gov/docs/VAERSDataUseGuide_November2020.pdf)  \n"
   ]
  },
  {
   "cell_type": "markdown",
   "id": "2722e9ba",
   "metadata": {},
   "source": [
    "# Import libraries"
   ]
  },
  {
   "cell_type": "code",
   "execution_count": 1,
   "id": "eff46cb2",
   "metadata": {
    "ExecuteTime": {
     "end_time": "2021-10-05T03:54:58.427763Z",
     "start_time": "2021-10-05T03:54:57.464695Z"
    }
   },
   "outputs": [],
   "source": [
    "import glob\n",
    "import missingno as msno\n",
    "import numpy as np\n",
    "import pandas as pd\n",
    "from pathlib import Path"
   ]
  },
  {
   "cell_type": "markdown",
   "id": "14ccc534",
   "metadata": {},
   "source": [
    "# Define functions"
   ]
  },
  {
   "cell_type": "code",
   "execution_count": 2,
   "id": "970287c6",
   "metadata": {
    "ExecuteTime": {
     "end_time": "2021-10-05T03:54:58.443141Z",
     "start_time": "2021-10-05T03:54:58.429394Z"
    }
   },
   "outputs": [],
   "source": [
    "def check_missing(df):\n",
    "    print(f\"Number of missing or NA values for each column out of {len(df)} rows:\\\n",
    "          \\n {df.isna().sum()}\")\n",
    "    print('#'*40)\n",
    "\n",
    "    print(f\"Percentage of missing or NA values for each column out of {len(df)} rows:\\\n",
    "          \\n {round(df.isna().sum()/len(df)*100)}\")\n",
    "    \n",
    "def check_unique(df):\n",
    "    print(f'Number of unique values for each column out of a total of {len(df)} rows: \\n {df.nunique()}')"
   ]
  },
  {
   "cell_type": "markdown",
   "id": "2ae450f0",
   "metadata": {},
   "source": [
    "# Import datasets"
   ]
  },
  {
   "cell_type": "code",
   "execution_count": 3,
   "id": "6c1c8236",
   "metadata": {
    "ExecuteTime": {
     "end_time": "2021-10-05T03:55:04.496066Z",
     "start_time": "2021-10-05T03:54:58.444404Z"
    }
   },
   "outputs": [],
   "source": [
    "raw_dir = Path.cwd().parents[1] / \"data/2021VAERSData\"\n",
    "filelist = [file for file in glob.glob(f\"{raw_dir}/*.csv\")]\n",
    "\n",
    "for file_path in filelist:\n",
    "\n",
    "    if 'DATA' in Path(file_path).name:\n",
    "        main_df = pd.read_csv(\n",
    "            file_path,\n",
    "            na_values = [\n",
    "                \"n/a\", \"na\", \"-\", \"<NA>\", \"Na\", \"None\", \"none\"\n",
    "                ],\n",
    "            low_memory = False\n",
    "        )\n",
    "\n",
    "    elif 'SYMPTOMS' in Path(file_path).name:\n",
    "        symp_df = pd.read_csv(file_path)\n",
    "\n",
    "    elif 'VAX' in Path(file_path).name:\n",
    "        vax_df = pd.read_csv(file_path)"
   ]
  },
  {
   "cell_type": "markdown",
   "id": "aac725bd",
   "metadata": {},
   "source": [
    "# vax_df"
   ]
  },
  {
   "cell_type": "markdown",
   "id": "3e4bebf0",
   "metadata": {},
   "source": [
    "## Inspect dataset"
   ]
  },
  {
   "cell_type": "code",
   "execution_count": 4,
   "id": "8db4ea75",
   "metadata": {
    "ExecuteTime": {
     "end_time": "2021-10-05T03:55:04.511170Z",
     "start_time": "2021-10-05T03:55:04.496066Z"
    }
   },
   "outputs": [
    {
     "name": "stdout",
     "output_type": "stream",
     "text": [
      "Number of rows and columns: (609373, 8)\n"
     ]
    }
   ],
   "source": [
    "print(f\"Number of rows and columns: {vax_df.shape}\")"
   ]
  },
  {
   "cell_type": "code",
   "execution_count": 5,
   "id": "c1f67f19",
   "metadata": {
    "ExecuteTime": {
     "end_time": "2021-10-05T03:55:04.605930Z",
     "start_time": "2021-10-05T03:55:04.512201Z"
    },
    "scrolled": true
   },
   "outputs": [
    {
     "name": "stdout",
     "output_type": "stream",
     "text": [
      "<class 'pandas.core.frame.DataFrame'>\n",
      "RangeIndex: 609373 entries, 0 to 609372\n",
      "Data columns (total 8 columns):\n",
      " #   Column           Non-Null Count   Dtype \n",
      "---  ------           --------------   ----- \n",
      " 0   VAERS_ID         609373 non-null  int64 \n",
      " 1   VAX_TYPE         609373 non-null  object\n",
      " 2   VAX_MANU         609373 non-null  object\n",
      " 3   VAX_LOT          420153 non-null  object\n",
      " 4   VAX_DOSE_SERIES  606816 non-null  object\n",
      " 5   VAX_ROUTE        470258 non-null  object\n",
      " 6   VAX_SITE         450493 non-null  object\n",
      " 7   VAX_NAME         609373 non-null  object\n",
      "dtypes: int64(1), object(7)\n",
      "memory usage: 37.2+ MB\n"
     ]
    }
   ],
   "source": [
    "vax_df.info()"
   ]
  },
  {
   "cell_type": "code",
   "execution_count": 6,
   "id": "1c5ecfe4",
   "metadata": {
    "ExecuteTime": {
     "end_time": "2021-10-05T03:55:04.621595Z",
     "start_time": "2021-10-05T03:55:04.606926Z"
    },
    "scrolled": true
   },
   "outputs": [
    {
     "data": {
      "text/html": [
       "<div>\n",
       "<style scoped>\n",
       "    .dataframe tbody tr th:only-of-type {\n",
       "        vertical-align: middle;\n",
       "    }\n",
       "\n",
       "    .dataframe tbody tr th {\n",
       "        vertical-align: top;\n",
       "    }\n",
       "\n",
       "    .dataframe thead th {\n",
       "        text-align: right;\n",
       "    }\n",
       "</style>\n",
       "<table border=\"1\" class=\"dataframe\">\n",
       "  <thead>\n",
       "    <tr style=\"text-align: right;\">\n",
       "      <th></th>\n",
       "      <th>VAERS_ID</th>\n",
       "      <th>VAX_TYPE</th>\n",
       "      <th>VAX_MANU</th>\n",
       "      <th>VAX_LOT</th>\n",
       "      <th>VAX_DOSE_SERIES</th>\n",
       "      <th>VAX_ROUTE</th>\n",
       "      <th>VAX_SITE</th>\n",
       "      <th>VAX_NAME</th>\n",
       "    </tr>\n",
       "  </thead>\n",
       "  <tbody>\n",
       "    <tr>\n",
       "      <th>0</th>\n",
       "      <td>916600</td>\n",
       "      <td>COVID19</td>\n",
       "      <td>MODERNA</td>\n",
       "      <td>037K20A</td>\n",
       "      <td>1</td>\n",
       "      <td>IM</td>\n",
       "      <td>LA</td>\n",
       "      <td>COVID19 (COVID19 (MODERNA))</td>\n",
       "    </tr>\n",
       "    <tr>\n",
       "      <th>1</th>\n",
       "      <td>916601</td>\n",
       "      <td>COVID19</td>\n",
       "      <td>MODERNA</td>\n",
       "      <td>025L20A</td>\n",
       "      <td>1</td>\n",
       "      <td>IM</td>\n",
       "      <td>RA</td>\n",
       "      <td>COVID19 (COVID19 (MODERNA))</td>\n",
       "    </tr>\n",
       "    <tr>\n",
       "      <th>2</th>\n",
       "      <td>916602</td>\n",
       "      <td>COVID19</td>\n",
       "      <td>PFIZER\\BIONTECH</td>\n",
       "      <td>EL1284</td>\n",
       "      <td>1</td>\n",
       "      <td>IM</td>\n",
       "      <td>LA</td>\n",
       "      <td>COVID19 (COVID19 (PFIZER-BIONTECH))</td>\n",
       "    </tr>\n",
       "    <tr>\n",
       "      <th>3</th>\n",
       "      <td>916603</td>\n",
       "      <td>COVID19</td>\n",
       "      <td>MODERNA</td>\n",
       "      <td>unknown</td>\n",
       "      <td>UNK</td>\n",
       "      <td>NaN</td>\n",
       "      <td>NaN</td>\n",
       "      <td>COVID19 (COVID19 (MODERNA))</td>\n",
       "    </tr>\n",
       "    <tr>\n",
       "      <th>4</th>\n",
       "      <td>916604</td>\n",
       "      <td>COVID19</td>\n",
       "      <td>MODERNA</td>\n",
       "      <td>NaN</td>\n",
       "      <td>1</td>\n",
       "      <td>IM</td>\n",
       "      <td>LA</td>\n",
       "      <td>COVID19 (COVID19 (MODERNA))</td>\n",
       "    </tr>\n",
       "  </tbody>\n",
       "</table>\n",
       "</div>"
      ],
      "text/plain": [
       "   VAERS_ID VAX_TYPE         VAX_MANU  VAX_LOT VAX_DOSE_SERIES VAX_ROUTE  \\\n",
       "0    916600  COVID19          MODERNA  037K20A               1        IM   \n",
       "1    916601  COVID19          MODERNA  025L20A               1        IM   \n",
       "2    916602  COVID19  PFIZER\\BIONTECH   EL1284               1        IM   \n",
       "3    916603  COVID19          MODERNA  unknown             UNK       NaN   \n",
       "4    916604  COVID19          MODERNA      NaN               1        IM   \n",
       "\n",
       "  VAX_SITE                             VAX_NAME  \n",
       "0       LA          COVID19 (COVID19 (MODERNA))  \n",
       "1       RA          COVID19 (COVID19 (MODERNA))  \n",
       "2       LA  COVID19 (COVID19 (PFIZER-BIONTECH))  \n",
       "3      NaN          COVID19 (COVID19 (MODERNA))  \n",
       "4       LA          COVID19 (COVID19 (MODERNA))  "
      ]
     },
     "execution_count": 6,
     "metadata": {},
     "output_type": "execute_result"
    }
   ],
   "source": [
    "vax_df.head(5)"
   ]
  },
  {
   "cell_type": "code",
   "execution_count": 7,
   "id": "3362b5dd",
   "metadata": {
    "ExecuteTime": {
     "end_time": "2021-10-05T03:55:04.637566Z",
     "start_time": "2021-10-05T03:55:04.623598Z"
    },
    "scrolled": true
   },
   "outputs": [
    {
     "data": {
      "text/html": [
       "<div>\n",
       "<style scoped>\n",
       "    .dataframe tbody tr th:only-of-type {\n",
       "        vertical-align: middle;\n",
       "    }\n",
       "\n",
       "    .dataframe tbody tr th {\n",
       "        vertical-align: top;\n",
       "    }\n",
       "\n",
       "    .dataframe thead th {\n",
       "        text-align: right;\n",
       "    }\n",
       "</style>\n",
       "<table border=\"1\" class=\"dataframe\">\n",
       "  <thead>\n",
       "    <tr style=\"text-align: right;\">\n",
       "      <th></th>\n",
       "      <th>VAERS_ID</th>\n",
       "      <th>VAX_TYPE</th>\n",
       "      <th>VAX_MANU</th>\n",
       "      <th>VAX_LOT</th>\n",
       "      <th>VAX_DOSE_SERIES</th>\n",
       "      <th>VAX_ROUTE</th>\n",
       "      <th>VAX_SITE</th>\n",
       "      <th>VAX_NAME</th>\n",
       "    </tr>\n",
       "  </thead>\n",
       "  <tbody>\n",
       "    <tr>\n",
       "      <th>609368</th>\n",
       "      <td>1730985</td>\n",
       "      <td>COVID19</td>\n",
       "      <td>JANSSEN</td>\n",
       "      <td>206A21A</td>\n",
       "      <td>1</td>\n",
       "      <td>IM</td>\n",
       "      <td>LA</td>\n",
       "      <td>COVID19 (COVID19 (JANSSEN))</td>\n",
       "    </tr>\n",
       "    <tr>\n",
       "      <th>609369</th>\n",
       "      <td>1730986</td>\n",
       "      <td>COVID19</td>\n",
       "      <td>JANSSEN</td>\n",
       "      <td>204A21A</td>\n",
       "      <td>1</td>\n",
       "      <td>SYR</td>\n",
       "      <td>LA</td>\n",
       "      <td>COVID19 (COVID19 (JANSSEN))</td>\n",
       "    </tr>\n",
       "    <tr>\n",
       "      <th>609370</th>\n",
       "      <td>1730987</td>\n",
       "      <td>COVID19</td>\n",
       "      <td>PFIZER\\BIONTECH</td>\n",
       "      <td>NaN</td>\n",
       "      <td>1</td>\n",
       "      <td>IM</td>\n",
       "      <td>NaN</td>\n",
       "      <td>COVID19 (COVID19 (PFIZER-BIONTECH))</td>\n",
       "    </tr>\n",
       "    <tr>\n",
       "      <th>609371</th>\n",
       "      <td>1730987</td>\n",
       "      <td>COVID19</td>\n",
       "      <td>PFIZER\\BIONTECH</td>\n",
       "      <td>NaN</td>\n",
       "      <td>2</td>\n",
       "      <td>IM</td>\n",
       "      <td>NaN</td>\n",
       "      <td>COVID19 (COVID19 (PFIZER-BIONTECH))</td>\n",
       "    </tr>\n",
       "    <tr>\n",
       "      <th>609372</th>\n",
       "      <td>1730988</td>\n",
       "      <td>COVID19</td>\n",
       "      <td>PFIZER\\BIONTECH</td>\n",
       "      <td>EW0178</td>\n",
       "      <td>2</td>\n",
       "      <td>IM</td>\n",
       "      <td>RA</td>\n",
       "      <td>COVID19 (COVID19 (PFIZER-BIONTECH))</td>\n",
       "    </tr>\n",
       "  </tbody>\n",
       "</table>\n",
       "</div>"
      ],
      "text/plain": [
       "        VAERS_ID VAX_TYPE         VAX_MANU  VAX_LOT VAX_DOSE_SERIES VAX_ROUTE  \\\n",
       "609368   1730985  COVID19          JANSSEN  206A21A               1        IM   \n",
       "609369   1730986  COVID19          JANSSEN  204A21A               1       SYR   \n",
       "609370   1730987  COVID19  PFIZER\\BIONTECH      NaN               1        IM   \n",
       "609371   1730987  COVID19  PFIZER\\BIONTECH      NaN               2        IM   \n",
       "609372   1730988  COVID19  PFIZER\\BIONTECH   EW0178               2        IM   \n",
       "\n",
       "       VAX_SITE                             VAX_NAME  \n",
       "609368       LA          COVID19 (COVID19 (JANSSEN))  \n",
       "609369       LA          COVID19 (COVID19 (JANSSEN))  \n",
       "609370      NaN  COVID19 (COVID19 (PFIZER-BIONTECH))  \n",
       "609371      NaN  COVID19 (COVID19 (PFIZER-BIONTECH))  \n",
       "609372       RA  COVID19 (COVID19 (PFIZER-BIONTECH))  "
      ]
     },
     "execution_count": 7,
     "metadata": {},
     "output_type": "execute_result"
    }
   ],
   "source": [
    "vax_df.tail(5)"
   ]
  },
  {
   "cell_type": "code",
   "execution_count": 8,
   "id": "139ad874",
   "metadata": {
    "ExecuteTime": {
     "end_time": "2021-10-05T03:55:04.684250Z",
     "start_time": "2021-10-05T03:55:04.639559Z"
    }
   },
   "outputs": [
    {
     "data": {
      "text/plain": [
       "MODERNA                              284040\n",
       "PFIZER\\BIONTECH                      253061\n",
       "JANSSEN                               53289\n",
       "UNKNOWN MANUFACTURER                   7196\n",
       "GLAXOSMITHKLINE BIOLOGICALS            4836\n",
       "MERCK & CO. INC.                       3245\n",
       "SANOFI PASTEUR                         1751\n",
       "NOVARTIS VACCINES AND DIAGNOSTICS       564\n",
       "PFIZER\\WYETH                            519\n",
       "SEQIRUS, INC.                           493\n",
       "PROTEIN SCIENCES CORPORATION            105\n",
       "BERNA BIOTECH, LTD.                      90\n",
       "DYNAVAX TECHNOLOGIES CORPORATION         61\n",
       "EMERGENT BIOSOLUTIONS                    40\n",
       "TEVA PHARMACEUTICALS                     19\n",
       "PAXVAX                                   17\n",
       "MEDIMMUNE VACCINES, INC.                 16\n",
       "MASS. PUB HLTH BIOL LAB                  12\n",
       "INTERCELL AG                              8\n",
       "CSL LIMITED                               8\n",
       "SMITHKLINE BEECHAM                        2\n",
       "MSP VACCINE COMPANY                       1\n",
       "Name: VAX_MANU, dtype: int64"
      ]
     },
     "execution_count": 8,
     "metadata": {},
     "output_type": "execute_result"
    }
   ],
   "source": [
    "vax_df.VAX_MANU.value_counts()"
   ]
  },
  {
   "cell_type": "markdown",
   "id": "dd3219c3",
   "metadata": {},
   "source": [
    "## Missing values "
   ]
  },
  {
   "cell_type": "code",
   "execution_count": 9,
   "id": "78635167",
   "metadata": {
    "ExecuteTime": {
     "end_time": "2021-10-05T03:55:04.873842Z",
     "start_time": "2021-10-05T03:55:04.685207Z"
    },
    "scrolled": false
   },
   "outputs": [
    {
     "name": "stdout",
     "output_type": "stream",
     "text": [
      "Number of missing or NA values for each column out of 609373 rows:          \n",
      " VAERS_ID                0\n",
      "VAX_TYPE                0\n",
      "VAX_MANU                0\n",
      "VAX_LOT            189220\n",
      "VAX_DOSE_SERIES      2557\n",
      "VAX_ROUTE          139115\n",
      "VAX_SITE           158880\n",
      "VAX_NAME                0\n",
      "dtype: int64\n",
      "########################################\n",
      "Percentage of missing or NA values for each column out of 609373 rows:          \n",
      " VAERS_ID            0.0\n",
      "VAX_TYPE            0.0\n",
      "VAX_MANU            0.0\n",
      "VAX_LOT            31.0\n",
      "VAX_DOSE_SERIES     0.0\n",
      "VAX_ROUTE          23.0\n",
      "VAX_SITE           26.0\n",
      "VAX_NAME            0.0\n",
      "dtype: float64\n"
     ]
    }
   ],
   "source": [
    "check_missing(vax_df)"
   ]
  },
  {
   "cell_type": "markdown",
   "id": "db3209b8",
   "metadata": {},
   "source": [
    "### Check missing values per column (bar chart)"
   ]
  },
  {
   "cell_type": "code",
   "execution_count": 10,
   "id": "26720c30",
   "metadata": {
    "ExecuteTime": {
     "end_time": "2021-10-05T03:55:05.256009Z",
     "start_time": "2021-10-05T03:55:04.875200Z"
    },
    "scrolled": true
   },
   "outputs": [
    {
     "data": {
      "image/png": "[encoded data removed]",
      "text/plain": [
       "<Figure size 1728x720 with 3 Axes>"
      ]
     },
     "metadata": {
      "needs_background": "light"
     },
     "output_type": "display_data"
    }
   ],
   "source": [
    "msno.bar(vax_df);"
   ]
  },
  {
   "cell_type": "markdown",
   "id": "17fb8acd",
   "metadata": {},
   "source": [
    "### Are there any patterns of missingness in this dataset?"
   ]
  },
  {
   "cell_type": "code",
   "execution_count": 11,
   "id": "b69eab25",
   "metadata": {
    "ExecuteTime": {
     "end_time": "2021-10-05T03:55:06.255777Z",
     "start_time": "2021-10-05T03:55:05.257702Z"
    },
    "scrolled": true
   },
   "outputs": [
    {
     "data": {
      "image/png": "[encoded data removed]",
      "text/plain": [
       "<Figure size 1800x720 with 2 Axes>"
      ]
     },
     "metadata": {
      "needs_background": "light"
     },
     "output_type": "display_data"
    }
   ],
   "source": [
    "msno.matrix(vax_df);"
   ]
  },
  {
   "cell_type": "markdown",
   "id": "fa34a670",
   "metadata": {},
   "source": [
    "## Number of unique values for each column"
   ]
  },
  {
   "cell_type": "code",
   "execution_count": 12,
   "id": "4ee3ad0d",
   "metadata": {
    "ExecuteTime": {
     "end_time": "2021-10-05T03:55:06.553374Z",
     "start_time": "2021-10-05T03:55:06.257848Z"
    }
   },
   "outputs": [
    {
     "name": "stdout",
     "output_type": "stream",
     "text": [
      "Number of unique values for each column out of a total of 609373 rows: \n",
      " VAERS_ID           583567\n",
      "VAX_TYPE               62\n",
      "VAX_MANU               22\n",
      "VAX_LOT             27884\n",
      "VAX_DOSE_SERIES         8\n",
      "VAX_ROUTE               9\n",
      "VAX_SITE               11\n",
      "VAX_NAME              115\n",
      "dtype: int64\n"
     ]
    }
   ],
   "source": [
    "check_unique(vax_df)"
   ]
  },
  {
   "cell_type": "markdown",
   "id": "56640f53",
   "metadata": {},
   "source": [
    "## Duplicates"
   ]
  },
  {
   "cell_type": "markdown",
   "id": "b8a21565",
   "metadata": {},
   "source": [
    "Note VAERS_ID is the unique key for all 3 datasets "
   ]
  },
  {
   "cell_type": "code",
   "execution_count": 13,
   "id": "eccc3f4b",
   "metadata": {
    "ExecuteTime": {
     "end_time": "2021-10-05T03:55:06.820407Z",
     "start_time": "2021-10-05T03:55:06.554155Z"
    }
   },
   "outputs": [
    {
     "name": "stdout",
     "output_type": "stream",
     "text": [
      "There are 951 complete duplicate rows in this dataset\n"
     ]
    }
   ],
   "source": [
    "print(f\"There are {vax_df.duplicated().sum()} complete duplicate rows in this dataset\")"
   ]
  },
  {
   "cell_type": "code",
   "execution_count": 14,
   "id": "569f4c6b",
   "metadata": {
    "ExecuteTime": {
     "end_time": "2021-10-05T03:55:06.945208Z",
     "start_time": "2021-10-05T03:55:06.821412Z"
    }
   },
   "outputs": [
    {
     "data": {
      "text/plain": [
       "20724"
      ]
     },
     "execution_count": 14,
     "metadata": {},
     "output_type": "execute_result"
    }
   ],
   "source": [
    "vax_df.duplicated(subset=['VAERS_ID', 'VAX_MANU', 'VAX_NAME']).sum()"
   ]
  },
  {
   "cell_type": "markdown",
   "id": "4966d38b",
   "metadata": {},
   "source": [
    "Why are there multiple rows of the same VAERS_ID?"
   ]
  },
  {
   "cell_type": "code",
   "execution_count": 15,
   "id": "ef8851cb",
   "metadata": {
    "ExecuteTime": {
     "end_time": "2021-10-05T03:55:07.038925Z",
     "start_time": "2021-10-05T03:55:06.946030Z"
    },
    "scrolled": true
   },
   "outputs": [
    {
     "data": {
      "text/html": [
       "<div>\n",
       "<style scoped>\n",
       "    .dataframe tbody tr th:only-of-type {\n",
       "        vertical-align: middle;\n",
       "    }\n",
       "\n",
       "    .dataframe tbody tr th {\n",
       "        vertical-align: top;\n",
       "    }\n",
       "\n",
       "    .dataframe thead th {\n",
       "        text-align: right;\n",
       "    }\n",
       "</style>\n",
       "<table border=\"1\" class=\"dataframe\">\n",
       "  <thead>\n",
       "    <tr style=\"text-align: right;\">\n",
       "      <th></th>\n",
       "      <th>VAERS_ID</th>\n",
       "      <th>VAX_TYPE</th>\n",
       "      <th>VAX_MANU</th>\n",
       "      <th>VAX_LOT</th>\n",
       "      <th>VAX_DOSE_SERIES</th>\n",
       "      <th>VAX_ROUTE</th>\n",
       "      <th>VAX_SITE</th>\n",
       "      <th>VAX_NAME</th>\n",
       "    </tr>\n",
       "  </thead>\n",
       "  <tbody>\n",
       "    <tr>\n",
       "      <th>16</th>\n",
       "      <td>916616</td>\n",
       "      <td>DTAPHEPBIP</td>\n",
       "      <td>GLAXOSMITHKLINE BIOLOGICALS</td>\n",
       "      <td>NaN</td>\n",
       "      <td>UNK</td>\n",
       "      <td>NaN</td>\n",
       "      <td>LG</td>\n",
       "      <td>DTAP + HEPB + IPV (PEDIARIX)</td>\n",
       "    </tr>\n",
       "    <tr>\n",
       "      <th>17</th>\n",
       "      <td>916616</td>\n",
       "      <td>HIBV</td>\n",
       "      <td>MERCK &amp; CO. INC.</td>\n",
       "      <td>NaN</td>\n",
       "      <td>UNK</td>\n",
       "      <td>NaN</td>\n",
       "      <td>LG</td>\n",
       "      <td>HIB (PEDVAXHIB)</td>\n",
       "    </tr>\n",
       "    <tr>\n",
       "      <th>18</th>\n",
       "      <td>916616</td>\n",
       "      <td>PNC13</td>\n",
       "      <td>PFIZER\\WYETH</td>\n",
       "      <td>NaN</td>\n",
       "      <td>UNK</td>\n",
       "      <td>NaN</td>\n",
       "      <td>LG</td>\n",
       "      <td>PNEUMO (PREVNAR13)</td>\n",
       "    </tr>\n",
       "    <tr>\n",
       "      <th>19</th>\n",
       "      <td>916616</td>\n",
       "      <td>RV1</td>\n",
       "      <td>GLAXOSMITHKLINE BIOLOGICALS</td>\n",
       "      <td>NaN</td>\n",
       "      <td>1</td>\n",
       "      <td>PO</td>\n",
       "      <td>MO</td>\n",
       "      <td>ROTAVIRUS (ROTARIX)</td>\n",
       "    </tr>\n",
       "    <tr>\n",
       "      <th>314</th>\n",
       "      <td>916918</td>\n",
       "      <td>DTAPHEPBIP</td>\n",
       "      <td>GLAXOSMITHKLINE BIOLOGICALS</td>\n",
       "      <td>NaN</td>\n",
       "      <td>2</td>\n",
       "      <td>NaN</td>\n",
       "      <td>LG</td>\n",
       "      <td>DTAP + HEPB + IPV (PEDIARIX)</td>\n",
       "    </tr>\n",
       "    <tr>\n",
       "      <th>...</th>\n",
       "      <td>...</td>\n",
       "      <td>...</td>\n",
       "      <td>...</td>\n",
       "      <td>...</td>\n",
       "      <td>...</td>\n",
       "      <td>...</td>\n",
       "      <td>...</td>\n",
       "      <td>...</td>\n",
       "    </tr>\n",
       "    <tr>\n",
       "      <th>609359</th>\n",
       "      <td>1730976</td>\n",
       "      <td>COVID19</td>\n",
       "      <td>MODERNA</td>\n",
       "      <td>053E21A</td>\n",
       "      <td>1</td>\n",
       "      <td>IM</td>\n",
       "      <td>NaN</td>\n",
       "      <td>COVID19 (COVID19 (MODERNA))</td>\n",
       "    </tr>\n",
       "    <tr>\n",
       "      <th>609366</th>\n",
       "      <td>1730984</td>\n",
       "      <td>COVID19</td>\n",
       "      <td>PFIZER\\BIONTECH</td>\n",
       "      <td>FA5843</td>\n",
       "      <td>1</td>\n",
       "      <td>SYR</td>\n",
       "      <td>LA</td>\n",
       "      <td>COVID19 (COVID19 (PFIZER-BIONTECH))</td>\n",
       "    </tr>\n",
       "    <tr>\n",
       "      <th>609367</th>\n",
       "      <td>1730984</td>\n",
       "      <td>COVID19</td>\n",
       "      <td>PFIZER\\BIONTECH</td>\n",
       "      <td>fe3380</td>\n",
       "      <td>1</td>\n",
       "      <td>NaN</td>\n",
       "      <td>RA</td>\n",
       "      <td>COVID19 (COVID19 (PFIZER-BIONTECH))</td>\n",
       "    </tr>\n",
       "    <tr>\n",
       "      <th>609370</th>\n",
       "      <td>1730987</td>\n",
       "      <td>COVID19</td>\n",
       "      <td>PFIZER\\BIONTECH</td>\n",
       "      <td>NaN</td>\n",
       "      <td>1</td>\n",
       "      <td>IM</td>\n",
       "      <td>NaN</td>\n",
       "      <td>COVID19 (COVID19 (PFIZER-BIONTECH))</td>\n",
       "    </tr>\n",
       "    <tr>\n",
       "      <th>609371</th>\n",
       "      <td>1730987</td>\n",
       "      <td>COVID19</td>\n",
       "      <td>PFIZER\\BIONTECH</td>\n",
       "      <td>NaN</td>\n",
       "      <td>2</td>\n",
       "      <td>IM</td>\n",
       "      <td>NaN</td>\n",
       "      <td>COVID19 (COVID19 (PFIZER-BIONTECH))</td>\n",
       "    </tr>\n",
       "  </tbody>\n",
       "</table>\n",
       "<p>49909 rows × 8 columns</p>\n",
       "</div>"
      ],
      "text/plain": [
       "        VAERS_ID    VAX_TYPE                     VAX_MANU  VAX_LOT  \\\n",
       "16        916616  DTAPHEPBIP  GLAXOSMITHKLINE BIOLOGICALS      NaN   \n",
       "17        916616        HIBV             MERCK & CO. INC.      NaN   \n",
       "18        916616       PNC13                 PFIZER\\WYETH      NaN   \n",
       "19        916616         RV1  GLAXOSMITHKLINE BIOLOGICALS      NaN   \n",
       "314       916918  DTAPHEPBIP  GLAXOSMITHKLINE BIOLOGICALS      NaN   \n",
       "...          ...         ...                          ...      ...   \n",
       "609359   1730976     COVID19                      MODERNA  053E21A   \n",
       "609366   1730984     COVID19              PFIZER\\BIONTECH   FA5843   \n",
       "609367   1730984     COVID19              PFIZER\\BIONTECH   fe3380   \n",
       "609370   1730987     COVID19              PFIZER\\BIONTECH      NaN   \n",
       "609371   1730987     COVID19              PFIZER\\BIONTECH      NaN   \n",
       "\n",
       "       VAX_DOSE_SERIES VAX_ROUTE VAX_SITE                             VAX_NAME  \n",
       "16                 UNK       NaN       LG         DTAP + HEPB + IPV (PEDIARIX)  \n",
       "17                 UNK       NaN       LG                      HIB (PEDVAXHIB)  \n",
       "18                 UNK       NaN       LG                   PNEUMO (PREVNAR13)  \n",
       "19                   1        PO       MO                  ROTAVIRUS (ROTARIX)  \n",
       "314                  2       NaN       LG         DTAP + HEPB + IPV (PEDIARIX)  \n",
       "...                ...       ...      ...                                  ...  \n",
       "609359               1        IM      NaN          COVID19 (COVID19 (MODERNA))  \n",
       "609366               1       SYR       LA  COVID19 (COVID19 (PFIZER-BIONTECH))  \n",
       "609367               1       NaN       RA  COVID19 (COVID19 (PFIZER-BIONTECH))  \n",
       "609370               1        IM      NaN  COVID19 (COVID19 (PFIZER-BIONTECH))  \n",
       "609371               2        IM      NaN  COVID19 (COVID19 (PFIZER-BIONTECH))  \n",
       "\n",
       "[49909 rows x 8 columns]"
      ]
     },
     "execution_count": 15,
     "metadata": {},
     "output_type": "execute_result"
    }
   ],
   "source": [
    "vax_df.loc[vax_df.duplicated(subset=['VAERS_ID'], keep=False), :].sort_values('VAERS_ID')"
   ]
  },
  {
   "cell_type": "code",
   "execution_count": 16,
   "id": "b9cefe94",
   "metadata": {
    "ExecuteTime": {
     "end_time": "2021-10-05T03:55:07.197311Z",
     "start_time": "2021-10-05T03:55:07.039930Z"
    }
   },
   "outputs": [
    {
     "data": {
      "text/html": [
       "<div>\n",
       "<style scoped>\n",
       "    .dataframe tbody tr th:only-of-type {\n",
       "        vertical-align: middle;\n",
       "    }\n",
       "\n",
       "    .dataframe tbody tr th {\n",
       "        vertical-align: top;\n",
       "    }\n",
       "\n",
       "    .dataframe thead th {\n",
       "        text-align: right;\n",
       "    }\n",
       "</style>\n",
       "<table border=\"1\" class=\"dataframe\">\n",
       "  <thead>\n",
       "    <tr style=\"text-align: right;\">\n",
       "      <th></th>\n",
       "      <th>VAERS_ID</th>\n",
       "      <th>VAX_TYPE</th>\n",
       "      <th>VAX_MANU</th>\n",
       "      <th>VAX_LOT</th>\n",
       "      <th>VAX_DOSE_SERIES</th>\n",
       "      <th>VAX_ROUTE</th>\n",
       "      <th>VAX_SITE</th>\n",
       "      <th>VAX_NAME</th>\n",
       "    </tr>\n",
       "  </thead>\n",
       "  <tbody>\n",
       "    <tr>\n",
       "      <th>482</th>\n",
       "      <td>917087</td>\n",
       "      <td>COVID19</td>\n",
       "      <td>PFIZER\\BIONTECH</td>\n",
       "      <td>NaN</td>\n",
       "      <td>1</td>\n",
       "      <td>IM</td>\n",
       "      <td>LA</td>\n",
       "      <td>COVID19 (COVID19 (PFIZER-BIONTECH))</td>\n",
       "    </tr>\n",
       "    <tr>\n",
       "      <th>483</th>\n",
       "      <td>917087</td>\n",
       "      <td>COVID19</td>\n",
       "      <td>PFIZER\\BIONTECH</td>\n",
       "      <td>NaN</td>\n",
       "      <td>UNK</td>\n",
       "      <td>IM</td>\n",
       "      <td>LA</td>\n",
       "      <td>COVID19 (COVID19 (PFIZER-BIONTECH))</td>\n",
       "    </tr>\n",
       "    <tr>\n",
       "      <th>650</th>\n",
       "      <td>917255</td>\n",
       "      <td>UNK</td>\n",
       "      <td>UNKNOWN MANUFACTURER</td>\n",
       "      <td>NaN</td>\n",
       "      <td>1</td>\n",
       "      <td>IM</td>\n",
       "      <td>RA</td>\n",
       "      <td>VACCINE NOT SPECIFIED (NO BRAND NAME)</td>\n",
       "    </tr>\n",
       "    <tr>\n",
       "      <th>651</th>\n",
       "      <td>917255</td>\n",
       "      <td>UNK</td>\n",
       "      <td>UNKNOWN MANUFACTURER</td>\n",
       "      <td>NaN</td>\n",
       "      <td>1</td>\n",
       "      <td>NaN</td>\n",
       "      <td>NaN</td>\n",
       "      <td>VACCINE NOT SPECIFIED (NO BRAND NAME)</td>\n",
       "    </tr>\n",
       "    <tr>\n",
       "      <th>1527</th>\n",
       "      <td>918140</td>\n",
       "      <td>VARZOS</td>\n",
       "      <td>GLAXOSMITHKLINE BIOLOGICALS</td>\n",
       "      <td>UNK</td>\n",
       "      <td>1</td>\n",
       "      <td>NaN</td>\n",
       "      <td>NaN</td>\n",
       "      <td>ZOSTER (SHINGRIX)</td>\n",
       "    </tr>\n",
       "    <tr>\n",
       "      <th>...</th>\n",
       "      <td>...</td>\n",
       "      <td>...</td>\n",
       "      <td>...</td>\n",
       "      <td>...</td>\n",
       "      <td>...</td>\n",
       "      <td>...</td>\n",
       "      <td>...</td>\n",
       "      <td>...</td>\n",
       "    </tr>\n",
       "    <tr>\n",
       "      <th>609359</th>\n",
       "      <td>1730976</td>\n",
       "      <td>COVID19</td>\n",
       "      <td>MODERNA</td>\n",
       "      <td>053E21A</td>\n",
       "      <td>1</td>\n",
       "      <td>IM</td>\n",
       "      <td>NaN</td>\n",
       "      <td>COVID19 (COVID19 (MODERNA))</td>\n",
       "    </tr>\n",
       "    <tr>\n",
       "      <th>609366</th>\n",
       "      <td>1730984</td>\n",
       "      <td>COVID19</td>\n",
       "      <td>PFIZER\\BIONTECH</td>\n",
       "      <td>FA5843</td>\n",
       "      <td>1</td>\n",
       "      <td>SYR</td>\n",
       "      <td>LA</td>\n",
       "      <td>COVID19 (COVID19 (PFIZER-BIONTECH))</td>\n",
       "    </tr>\n",
       "    <tr>\n",
       "      <th>609367</th>\n",
       "      <td>1730984</td>\n",
       "      <td>COVID19</td>\n",
       "      <td>PFIZER\\BIONTECH</td>\n",
       "      <td>fe3380</td>\n",
       "      <td>1</td>\n",
       "      <td>NaN</td>\n",
       "      <td>RA</td>\n",
       "      <td>COVID19 (COVID19 (PFIZER-BIONTECH))</td>\n",
       "    </tr>\n",
       "    <tr>\n",
       "      <th>609370</th>\n",
       "      <td>1730987</td>\n",
       "      <td>COVID19</td>\n",
       "      <td>PFIZER\\BIONTECH</td>\n",
       "      <td>NaN</td>\n",
       "      <td>1</td>\n",
       "      <td>IM</td>\n",
       "      <td>NaN</td>\n",
       "      <td>COVID19 (COVID19 (PFIZER-BIONTECH))</td>\n",
       "    </tr>\n",
       "    <tr>\n",
       "      <th>609371</th>\n",
       "      <td>1730987</td>\n",
       "      <td>COVID19</td>\n",
       "      <td>PFIZER\\BIONTECH</td>\n",
       "      <td>NaN</td>\n",
       "      <td>2</td>\n",
       "      <td>IM</td>\n",
       "      <td>NaN</td>\n",
       "      <td>COVID19 (COVID19 (PFIZER-BIONTECH))</td>\n",
       "    </tr>\n",
       "  </tbody>\n",
       "</table>\n",
       "<p>41113 rows × 8 columns</p>\n",
       "</div>"
      ],
      "text/plain": [
       "        VAERS_ID VAX_TYPE                     VAX_MANU  VAX_LOT  \\\n",
       "482       917087  COVID19              PFIZER\\BIONTECH      NaN   \n",
       "483       917087  COVID19              PFIZER\\BIONTECH      NaN   \n",
       "650       917255      UNK         UNKNOWN MANUFACTURER      NaN   \n",
       "651       917255      UNK         UNKNOWN MANUFACTURER      NaN   \n",
       "1527      918140   VARZOS  GLAXOSMITHKLINE BIOLOGICALS      UNK   \n",
       "...          ...      ...                          ...      ...   \n",
       "609359   1730976  COVID19                      MODERNA  053E21A   \n",
       "609366   1730984  COVID19              PFIZER\\BIONTECH   FA5843   \n",
       "609367   1730984  COVID19              PFIZER\\BIONTECH   fe3380   \n",
       "609370   1730987  COVID19              PFIZER\\BIONTECH      NaN   \n",
       "609371   1730987  COVID19              PFIZER\\BIONTECH      NaN   \n",
       "\n",
       "       VAX_DOSE_SERIES VAX_ROUTE VAX_SITE  \\\n",
       "482                  1        IM       LA   \n",
       "483                UNK        IM       LA   \n",
       "650                  1        IM       RA   \n",
       "651                  1       NaN      NaN   \n",
       "1527                 1       NaN      NaN   \n",
       "...                ...       ...      ...   \n",
       "609359               1        IM      NaN   \n",
       "609366               1       SYR       LA   \n",
       "609367               1       NaN       RA   \n",
       "609370               1        IM      NaN   \n",
       "609371               2        IM      NaN   \n",
       "\n",
       "                                     VAX_NAME  \n",
       "482       COVID19 (COVID19 (PFIZER-BIONTECH))  \n",
       "483       COVID19 (COVID19 (PFIZER-BIONTECH))  \n",
       "650     VACCINE NOT SPECIFIED (NO BRAND NAME)  \n",
       "651     VACCINE NOT SPECIFIED (NO BRAND NAME)  \n",
       "1527                        ZOSTER (SHINGRIX)  \n",
       "...                                       ...  \n",
       "609359            COVID19 (COVID19 (MODERNA))  \n",
       "609366    COVID19 (COVID19 (PFIZER-BIONTECH))  \n",
       "609367    COVID19 (COVID19 (PFIZER-BIONTECH))  \n",
       "609370    COVID19 (COVID19 (PFIZER-BIONTECH))  \n",
       "609371    COVID19 (COVID19 (PFIZER-BIONTECH))  \n",
       "\n",
       "[41113 rows x 8 columns]"
      ]
     },
     "execution_count": 16,
     "metadata": {},
     "output_type": "execute_result"
    }
   ],
   "source": [
    "vax_df.loc[vax_df.duplicated(subset=['VAERS_ID', 'VAX_MANU', 'VAX_NAME'], keep=False), :].sort_values('VAERS_ID')"
   ]
  },
  {
   "cell_type": "markdown",
   "id": "8cdf8499",
   "metadata": {},
   "source": [
    "Looks like the multiple rows of duplicate VAERS_ID arose due to the following reasons:\n",
    "1. the person had multiple types of vaccines at the same time, \n",
    "2. data entry errors, \n",
    "3. inconsistencies in VAX_DOSE_SERIES, VAX_ROUTE, VAX_SITE, VAX_LOT (correspond to the missing values)"
   ]
  },
  {
   "cell_type": "markdown",
   "id": "bedae8d6",
   "metadata": {},
   "source": [
    "## Data cleaning for vax_df prior to merging into one main df"
   ]
  },
  {
   "cell_type": "markdown",
   "id": "838f0b23",
   "metadata": {},
   "source": [
    "Noted the high percentage of missing values for the following columns:\n",
    "- VAX_LOT:            31.0%\n",
    "- VAX_ROUTE:          23.0%\n",
    "- VAX_SITE:           26.0%\n",
    "\n",
    "Given our current problem statement, these columns are not known to be important predictors. We wil therefore choose to drop those columns \n",
    "\n",
    "To answer the [problem statement](#Primary_problem_statement*), we only need the data on the 2 mRNA vaccines: MODERNA and PFIZER/BIONTECH \n",
    "\n",
    "The other variables VAX_NAME, VAX_TYPE do not provide additional information that is useful for the problem statement. \n",
    "\n",
    "Therefore the data cleaning steps that will be included in the pipeline for vax_df will be as follows:  \n",
    "\n",
    "1. Select only rows with VAX_MANU values that contain \"MODERNA\" or \"PFIZER\\BIONTECH\"  \n",
    "2. Drop the remaining duplicated rows, subset based on the unique key 'VAERS_ID\"  \n",
    "3. Keep only VAERS_ID and VAX_MANU columns \n",
    "4. Merge with main dataframe based on the unique key 'VAERS_ID\" "
   ]
  },
  {
   "cell_type": "markdown",
   "id": "a3cd14c1",
   "metadata": {},
   "source": [
    "# symp_df"
   ]
  },
  {
   "cell_type": "markdown",
   "id": "c45493f1",
   "metadata": {
    "ExecuteTime": {
     "end_time": "2021-10-05T03:55:07.213277Z",
     "start_time": "2021-10-05T03:55:07.198308Z"
    }
   },
   "source": [
    "## Inspect dataset"
   ]
  },
  {
   "cell_type": "code",
   "execution_count": 24,
   "id": "6a3e0e48",
   "metadata": {
    "ExecuteTime": {
     "end_time": "2021-10-05T03:55:44.242640Z",
     "start_time": "2021-10-05T03:55:44.228345Z"
    }
   },
   "outputs": [
    {
     "name": "stdout",
     "output_type": "stream",
     "text": [
      "Number of rows and columns: (779234, 11)\n"
     ]
    }
   ],
   "source": [
    "print(f\"Number of rows and columns: {symp_df.shape}\")"
   ]
  },
  {
   "cell_type": "code",
   "execution_count": 25,
   "id": "cc16f7e3",
   "metadata": {
    "ExecuteTime": {
     "end_time": "2021-10-05T03:55:53.263009Z",
     "start_time": "2021-10-05T03:55:53.156244Z"
    },
    "scrolled": true
   },
   "outputs": [
    {
     "name": "stdout",
     "output_type": "stream",
     "text": [
      "<class 'pandas.core.frame.DataFrame'>\n",
      "RangeIndex: 779234 entries, 0 to 779233\n",
      "Data columns (total 11 columns):\n",
      " #   Column           Non-Null Count   Dtype  \n",
      "---  ------           --------------   -----  \n",
      " 0   VAERS_ID         779234 non-null  int64  \n",
      " 1   SYMPTOM1         779234 non-null  object \n",
      " 2   SYMPTOMVERSION1  779234 non-null  float64\n",
      " 3   SYMPTOM2         611441 non-null  object \n",
      " 4   SYMPTOMVERSION2  611441 non-null  float64\n",
      " 5   SYMPTOM3         473139 non-null  object \n",
      " 6   SYMPTOMVERSION3  473139 non-null  float64\n",
      " 7   SYMPTOM4         358470 non-null  object \n",
      " 8   SYMPTOMVERSION4  358470 non-null  float64\n",
      " 9   SYMPTOM5         265922 non-null  object \n",
      " 10  SYMPTOMVERSION5  265922 non-null  float64\n",
      "dtypes: float64(5), int64(1), object(5)\n",
      "memory usage: 65.4+ MB\n"
     ]
    }
   ],
   "source": [
    "symp_df.info()"
   ]
  },
  {
   "cell_type": "code",
   "execution_count": 27,
   "id": "d34d46cd",
   "metadata": {
    "ExecuteTime": {
     "end_time": "2021-10-05T03:56:20.569063Z",
     "start_time": "2021-10-05T03:56:20.547784Z"
    },
    "scrolled": true
   },
   "outputs": [
    {
     "data": {
      "text/html": [
       "<div>\n",
       "<style scoped>\n",
       "    .dataframe tbody tr th:only-of-type {\n",
       "        vertical-align: middle;\n",
       "    }\n",
       "\n",
       "    .dataframe tbody tr th {\n",
       "        vertical-align: top;\n",
       "    }\n",
       "\n",
       "    .dataframe thead th {\n",
       "        text-align: right;\n",
       "    }\n",
       "</style>\n",
       "<table border=\"1\" class=\"dataframe\">\n",
       "  <thead>\n",
       "    <tr style=\"text-align: right;\">\n",
       "      <th></th>\n",
       "      <th>0</th>\n",
       "      <th>1</th>\n",
       "      <th>2</th>\n",
       "      <th>3</th>\n",
       "      <th>4</th>\n",
       "    </tr>\n",
       "  </thead>\n",
       "  <tbody>\n",
       "    <tr>\n",
       "      <th>VAERS_ID</th>\n",
       "      <td>916600</td>\n",
       "      <td>916601</td>\n",
       "      <td>916602</td>\n",
       "      <td>916603</td>\n",
       "      <td>916604</td>\n",
       "    </tr>\n",
       "    <tr>\n",
       "      <th>SYMPTOM1</th>\n",
       "      <td>Dysphagia</td>\n",
       "      <td>Anxiety</td>\n",
       "      <td>Chest discomfort</td>\n",
       "      <td>Dizziness</td>\n",
       "      <td>Injection site erythema</td>\n",
       "    </tr>\n",
       "    <tr>\n",
       "      <th>SYMPTOMVERSION1</th>\n",
       "      <td>23.1</td>\n",
       "      <td>23.1</td>\n",
       "      <td>23.1</td>\n",
       "      <td>23.1</td>\n",
       "      <td>23.1</td>\n",
       "    </tr>\n",
       "    <tr>\n",
       "      <th>SYMPTOM2</th>\n",
       "      <td>Epiglottitis</td>\n",
       "      <td>Dyspnoea</td>\n",
       "      <td>Dysphagia</td>\n",
       "      <td>Fatigue</td>\n",
       "      <td>Injection site pruritus</td>\n",
       "    </tr>\n",
       "    <tr>\n",
       "      <th>SYMPTOMVERSION2</th>\n",
       "      <td>23.1</td>\n",
       "      <td>23.1</td>\n",
       "      <td>23.1</td>\n",
       "      <td>23.1</td>\n",
       "      <td>23.1</td>\n",
       "    </tr>\n",
       "    <tr>\n",
       "      <th>SYMPTOM3</th>\n",
       "      <td>NaN</td>\n",
       "      <td>NaN</td>\n",
       "      <td>Pain in extremity</td>\n",
       "      <td>Mobility decreased</td>\n",
       "      <td>Injection site swelling</td>\n",
       "    </tr>\n",
       "    <tr>\n",
       "      <th>SYMPTOMVERSION3</th>\n",
       "      <td>NaN</td>\n",
       "      <td>NaN</td>\n",
       "      <td>23.1</td>\n",
       "      <td>23.1</td>\n",
       "      <td>23.1</td>\n",
       "    </tr>\n",
       "    <tr>\n",
       "      <th>SYMPTOM4</th>\n",
       "      <td>NaN</td>\n",
       "      <td>NaN</td>\n",
       "      <td>Visual impairment</td>\n",
       "      <td>NaN</td>\n",
       "      <td>Injection site warmth</td>\n",
       "    </tr>\n",
       "    <tr>\n",
       "      <th>SYMPTOMVERSION4</th>\n",
       "      <td>NaN</td>\n",
       "      <td>NaN</td>\n",
       "      <td>23.1</td>\n",
       "      <td>NaN</td>\n",
       "      <td>23.1</td>\n",
       "    </tr>\n",
       "    <tr>\n",
       "      <th>SYMPTOM5</th>\n",
       "      <td>NaN</td>\n",
       "      <td>NaN</td>\n",
       "      <td>NaN</td>\n",
       "      <td>NaN</td>\n",
       "      <td>NaN</td>\n",
       "    </tr>\n",
       "    <tr>\n",
       "      <th>SYMPTOMVERSION5</th>\n",
       "      <td>NaN</td>\n",
       "      <td>NaN</td>\n",
       "      <td>NaN</td>\n",
       "      <td>NaN</td>\n",
       "      <td>NaN</td>\n",
       "    </tr>\n",
       "  </tbody>\n",
       "</table>\n",
       "</div>"
      ],
      "text/plain": [
       "                            0         1                  2  \\\n",
       "VAERS_ID               916600    916601             916602   \n",
       "SYMPTOM1            Dysphagia   Anxiety   Chest discomfort   \n",
       "SYMPTOMVERSION1          23.1      23.1               23.1   \n",
       "SYMPTOM2         Epiglottitis  Dyspnoea          Dysphagia   \n",
       "SYMPTOMVERSION2          23.1      23.1               23.1   \n",
       "SYMPTOM3                  NaN       NaN  Pain in extremity   \n",
       "SYMPTOMVERSION3           NaN       NaN               23.1   \n",
       "SYMPTOM4                  NaN       NaN  Visual impairment   \n",
       "SYMPTOMVERSION4           NaN       NaN               23.1   \n",
       "SYMPTOM5                  NaN       NaN                NaN   \n",
       "SYMPTOMVERSION5           NaN       NaN                NaN   \n",
       "\n",
       "                                  3                        4  \n",
       "VAERS_ID                     916603                   916604  \n",
       "SYMPTOM1                  Dizziness  Injection site erythema  \n",
       "SYMPTOMVERSION1                23.1                     23.1  \n",
       "SYMPTOM2                    Fatigue  Injection site pruritus  \n",
       "SYMPTOMVERSION2                23.1                     23.1  \n",
       "SYMPTOM3         Mobility decreased  Injection site swelling  \n",
       "SYMPTOMVERSION3                23.1                     23.1  \n",
       "SYMPTOM4                        NaN    Injection site warmth  \n",
       "SYMPTOMVERSION4                 NaN                     23.1  \n",
       "SYMPTOM5                        NaN                      NaN  \n",
       "SYMPTOMVERSION5                 NaN                      NaN  "
      ]
     },
     "execution_count": 27,
     "metadata": {},
     "output_type": "execute_result"
    }
   ],
   "source": [
    "symp_df.head(5).transpose()"
   ]
  },
  {
   "cell_type": "code",
   "execution_count": 28,
   "id": "262cb398",
   "metadata": {
    "ExecuteTime": {
     "end_time": "2021-10-05T03:56:29.052032Z",
     "start_time": "2021-10-05T03:56:29.035822Z"
    }
   },
   "outputs": [
    {
     "data": {
      "text/html": [
       "<div>\n",
       "<style scoped>\n",
       "    .dataframe tbody tr th:only-of-type {\n",
       "        vertical-align: middle;\n",
       "    }\n",
       "\n",
       "    .dataframe tbody tr th {\n",
       "        vertical-align: top;\n",
       "    }\n",
       "\n",
       "    .dataframe thead th {\n",
       "        text-align: right;\n",
       "    }\n",
       "</style>\n",
       "<table border=\"1\" class=\"dataframe\">\n",
       "  <thead>\n",
       "    <tr style=\"text-align: right;\">\n",
       "      <th></th>\n",
       "      <th>779229</th>\n",
       "      <th>779230</th>\n",
       "      <th>779231</th>\n",
       "      <th>779232</th>\n",
       "      <th>779233</th>\n",
       "    </tr>\n",
       "  </thead>\n",
       "  <tbody>\n",
       "    <tr>\n",
       "      <th>VAERS_ID</th>\n",
       "      <td>1730986</td>\n",
       "      <td>1730987</td>\n",
       "      <td>1730987</td>\n",
       "      <td>1730987</td>\n",
       "      <td>1730988</td>\n",
       "    </tr>\n",
       "    <tr>\n",
       "      <th>SYMPTOM1</th>\n",
       "      <td>Blepharospasm</td>\n",
       "      <td>Balance disorder</td>\n",
       "      <td>Magnetic resonance imaging</td>\n",
       "      <td>Somnolence</td>\n",
       "      <td>Tinnitus</td>\n",
       "    </tr>\n",
       "    <tr>\n",
       "      <th>SYMPTOMVERSION1</th>\n",
       "      <td>24.1</td>\n",
       "      <td>24.1</td>\n",
       "      <td>24.1</td>\n",
       "      <td>24.1</td>\n",
       "      <td>24.1</td>\n",
       "    </tr>\n",
       "    <tr>\n",
       "      <th>SYMPTOM2</th>\n",
       "      <td>Muscle twitching</td>\n",
       "      <td>Biopsy</td>\n",
       "      <td>Memory impairment</td>\n",
       "      <td>Vomiting</td>\n",
       "      <td>NaN</td>\n",
       "    </tr>\n",
       "    <tr>\n",
       "      <th>SYMPTOMVERSION2</th>\n",
       "      <td>24.1</td>\n",
       "      <td>24.1</td>\n",
       "      <td>24.1</td>\n",
       "      <td>24.1</td>\n",
       "      <td>NaN</td>\n",
       "    </tr>\n",
       "    <tr>\n",
       "      <th>SYMPTOM3</th>\n",
       "      <td>NaN</td>\n",
       "      <td>Fatigue</td>\n",
       "      <td>Metabolic encephalopathy</td>\n",
       "      <td>NaN</td>\n",
       "      <td>NaN</td>\n",
       "    </tr>\n",
       "    <tr>\n",
       "      <th>SYMPTOMVERSION3</th>\n",
       "      <td>NaN</td>\n",
       "      <td>24.1</td>\n",
       "      <td>24.1</td>\n",
       "      <td>NaN</td>\n",
       "      <td>NaN</td>\n",
       "    </tr>\n",
       "    <tr>\n",
       "      <th>SYMPTOM4</th>\n",
       "      <td>NaN</td>\n",
       "      <td>Intensive care</td>\n",
       "      <td>Nausea</td>\n",
       "      <td>NaN</td>\n",
       "      <td>NaN</td>\n",
       "    </tr>\n",
       "    <tr>\n",
       "      <th>SYMPTOMVERSION4</th>\n",
       "      <td>NaN</td>\n",
       "      <td>24.1</td>\n",
       "      <td>24.1</td>\n",
       "      <td>NaN</td>\n",
       "      <td>NaN</td>\n",
       "    </tr>\n",
       "    <tr>\n",
       "      <th>SYMPTOM5</th>\n",
       "      <td>NaN</td>\n",
       "      <td>Intracranial mass</td>\n",
       "      <td>Positron emission tomogram</td>\n",
       "      <td>NaN</td>\n",
       "      <td>NaN</td>\n",
       "    </tr>\n",
       "    <tr>\n",
       "      <th>SYMPTOMVERSION5</th>\n",
       "      <td>NaN</td>\n",
       "      <td>24.1</td>\n",
       "      <td>24.1</td>\n",
       "      <td>NaN</td>\n",
       "      <td>NaN</td>\n",
       "    </tr>\n",
       "  </tbody>\n",
       "</table>\n",
       "</div>"
      ],
      "text/plain": [
       "                           779229             779230  \\\n",
       "VAERS_ID                  1730986            1730987   \n",
       "SYMPTOM1            Blepharospasm   Balance disorder   \n",
       "SYMPTOMVERSION1              24.1               24.1   \n",
       "SYMPTOM2         Muscle twitching             Biopsy   \n",
       "SYMPTOMVERSION2              24.1               24.1   \n",
       "SYMPTOM3                      NaN            Fatigue   \n",
       "SYMPTOMVERSION3               NaN               24.1   \n",
       "SYMPTOM4                      NaN     Intensive care   \n",
       "SYMPTOMVERSION4               NaN               24.1   \n",
       "SYMPTOM5                      NaN  Intracranial mass   \n",
       "SYMPTOMVERSION5               NaN               24.1   \n",
       "\n",
       "                                     779231      779232    779233  \n",
       "VAERS_ID                            1730987     1730987   1730988  \n",
       "SYMPTOM1         Magnetic resonance imaging  Somnolence  Tinnitus  \n",
       "SYMPTOMVERSION1                        24.1        24.1      24.1  \n",
       "SYMPTOM2                  Memory impairment    Vomiting       NaN  \n",
       "SYMPTOMVERSION2                        24.1        24.1       NaN  \n",
       "SYMPTOM3           Metabolic encephalopathy         NaN       NaN  \n",
       "SYMPTOMVERSION3                        24.1         NaN       NaN  \n",
       "SYMPTOM4                             Nausea         NaN       NaN  \n",
       "SYMPTOMVERSION4                        24.1         NaN       NaN  \n",
       "SYMPTOM5         Positron emission tomogram         NaN       NaN  \n",
       "SYMPTOMVERSION5                        24.1         NaN       NaN  "
      ]
     },
     "execution_count": 28,
     "metadata": {},
     "output_type": "execute_result"
    }
   ],
   "source": [
    "symp_df.tail(5).transpose()"
   ]
  },
  {
   "cell_type": "markdown",
   "id": "c2b0e8e6",
   "metadata": {
    "ExecuteTime": {
     "end_time": "2021-10-05T03:55:07.228941Z",
     "start_time": "2021-10-05T03:55:07.214273Z"
    }
   },
   "source": [
    "## Missing values "
   ]
  },
  {
   "cell_type": "code",
   "execution_count": 29,
   "id": "be4fa223",
   "metadata": {
    "ExecuteTime": {
     "end_time": "2021-10-05T03:57:09.881862Z",
     "start_time": "2021-10-05T03:57:09.667172Z"
    },
    "scrolled": false
   },
   "outputs": [
    {
     "name": "stdout",
     "output_type": "stream",
     "text": [
      "Number of missing or NA values for each column out of 779234 rows:          \n",
      " VAERS_ID                0\n",
      "SYMPTOM1                0\n",
      "SYMPTOMVERSION1         0\n",
      "SYMPTOM2           167793\n",
      "SYMPTOMVERSION2    167793\n",
      "SYMPTOM3           306095\n",
      "SYMPTOMVERSION3    306095\n",
      "SYMPTOM4           420764\n",
      "SYMPTOMVERSION4    420764\n",
      "SYMPTOM5           513312\n",
      "SYMPTOMVERSION5    513312\n",
      "dtype: int64\n",
      "########################################\n",
      "Percentage of missing or NA values for each column out of 779234 rows:          \n",
      " VAERS_ID            0.0\n",
      "SYMPTOM1            0.0\n",
      "SYMPTOMVERSION1     0.0\n",
      "SYMPTOM2           22.0\n",
      "SYMPTOMVERSION2    22.0\n",
      "SYMPTOM3           39.0\n",
      "SYMPTOMVERSION3    39.0\n",
      "SYMPTOM4           54.0\n",
      "SYMPTOMVERSION4    54.0\n",
      "SYMPTOM5           66.0\n",
      "SYMPTOMVERSION5    66.0\n",
      "dtype: float64\n"
     ]
    }
   ],
   "source": [
    "check_missing(symp_df)"
   ]
  },
  {
   "cell_type": "markdown",
   "id": "01a01469",
   "metadata": {},
   "source": [
    "### Check missing values per column (bar chart)"
   ]
  },
  {
   "cell_type": "code",
   "execution_count": 30,
   "id": "86297df2",
   "metadata": {
    "ExecuteTime": {
     "end_time": "2021-10-05T03:58:01.009885Z",
     "start_time": "2021-10-05T03:58:00.603915Z"
    },
    "scrolled": false
   },
   "outputs": [
    {
     "data": {
      "image/png": "[encoded data removed]",
      "text/plain": [
       "<Figure size 1728x720 with 3 Axes>"
      ]
     },
     "metadata": {
      "needs_background": "light"
     },
     "output_type": "display_data"
    }
   ],
   "source": [
    "msno.bar(symp_df);"
   ]
  },
  {
   "cell_type": "markdown",
   "id": "04cc45ac",
   "metadata": {},
   "source": [
    "### Are there any patterns of missingness in this dataset?"
   ]
  },
  {
   "cell_type": "code",
   "execution_count": 31,
   "id": "7b5e78e5",
   "metadata": {
    "ExecuteTime": {
     "end_time": "2021-10-05T03:58:10.966908Z",
     "start_time": "2021-10-05T03:58:09.532445Z"
    },
    "scrolled": false
   },
   "outputs": [
    {
     "data": {
      "image/png": "[encoded data removed]",
      "text/plain": [
       "<Figure size 1800x720 with 2 Axes>"
      ]
     },
     "metadata": {
      "needs_background": "light"
     },
     "output_type": "display_data"
    }
   ],
   "source": [
    "msno.matrix(symp_df);"
   ]
  },
  {
   "cell_type": "markdown",
   "id": "b1de55a5",
   "metadata": {},
   "source": [
    "## Number of unique values for each column"
   ]
  },
  {
   "cell_type": "code",
   "execution_count": 32,
   "id": "f6e1dfde",
   "metadata": {
    "ExecuteTime": {
     "end_time": "2021-10-05T03:58:54.233801Z",
     "start_time": "2021-10-05T03:58:53.852126Z"
    }
   },
   "outputs": [
    {
     "name": "stdout",
     "output_type": "stream",
     "text": [
      "Number of unique values for each column out of a total of 779234 rows: \n",
      " VAERS_ID           583564\n",
      "SYMPTOM1             6883\n",
      "SYMPTOMVERSION1         3\n",
      "SYMPTOM2             6567\n",
      "SYMPTOMVERSION2         3\n",
      "SYMPTOM3             6093\n",
      "SYMPTOMVERSION3         3\n",
      "SYMPTOM4             5531\n",
      "SYMPTOMVERSION4         3\n",
      "SYMPTOM5             5076\n",
      "SYMPTOMVERSION5         3\n",
      "dtype: int64\n"
     ]
    }
   ],
   "source": [
    "check_unique(symp_df)"
   ]
  },
  {
   "cell_type": "markdown",
   "id": "843ead9c",
   "metadata": {
    "ExecuteTime": {
     "end_time": "2021-10-05T03:55:07.244931Z",
     "start_time": "2021-10-05T03:55:07.229940Z"
    }
   },
   "source": [
    "## Duplicates"
   ]
  },
  {
   "cell_type": "code",
   "execution_count": 33,
   "id": "f853f0c3",
   "metadata": {
    "ExecuteTime": {
     "end_time": "2021-10-05T03:59:49.920569Z",
     "start_time": "2021-10-05T03:59:49.532760Z"
    }
   },
   "outputs": [
    {
     "name": "stdout",
     "output_type": "stream",
     "text": [
      "There are 0 complete duplicate rows in this dataset\n"
     ]
    }
   ],
   "source": [
    "print(f\"There are {symp_df.duplicated().sum()} complete duplicate rows in this dataset\")"
   ]
  },
  {
   "cell_type": "code",
   "execution_count": 34,
   "id": "40a4576e",
   "metadata": {
    "ExecuteTime": {
     "end_time": "2021-10-05T04:00:49.768395Z",
     "start_time": "2021-10-05T04:00:49.706857Z"
    },
    "scrolled": false
   },
   "outputs": [
    {
     "name": "stdout",
     "output_type": "stream",
     "text": [
      "There are 195670 duplicate rows of VAERS_ID in this dataset\n"
     ]
    }
   ],
   "source": [
    "print(f\"There are {symp_df.duplicated(subset=['VAERS_ID']).sum()} duplicate rows of VAERS_ID in this dataset\")"
   ]
  },
  {
   "cell_type": "code",
   "execution_count": 38,
   "id": "5a58a5a7",
   "metadata": {
    "ExecuteTime": {
     "end_time": "2021-10-05T04:05:14.701877Z",
     "start_time": "2021-10-05T04:05:14.588806Z"
    }
   },
   "outputs": [
    {
     "data": {
      "text/html": [
       "<div>\n",
       "<style scoped>\n",
       "    .dataframe tbody tr th:only-of-type {\n",
       "        vertical-align: middle;\n",
       "    }\n",
       "\n",
       "    .dataframe tbody tr th {\n",
       "        vertical-align: top;\n",
       "    }\n",
       "\n",
       "    .dataframe thead th {\n",
       "        text-align: right;\n",
       "    }\n",
       "</style>\n",
       "<table border=\"1\" class=\"dataframe\">\n",
       "  <thead>\n",
       "    <tr style=\"text-align: right;\">\n",
       "      <th></th>\n",
       "      <th>VAERS_ID</th>\n",
       "      <th>SYMPTOM1</th>\n",
       "      <th>SYMPTOMVERSION1</th>\n",
       "      <th>SYMPTOM2</th>\n",
       "      <th>SYMPTOMVERSION2</th>\n",
       "      <th>SYMPTOM3</th>\n",
       "      <th>SYMPTOMVERSION3</th>\n",
       "      <th>SYMPTOM4</th>\n",
       "      <th>SYMPTOMVERSION4</th>\n",
       "      <th>SYMPTOM5</th>\n",
       "      <th>SYMPTOMVERSION5</th>\n",
       "    </tr>\n",
       "  </thead>\n",
       "  <tbody>\n",
       "    <tr>\n",
       "      <th>5</th>\n",
       "      <td>916605</td>\n",
       "      <td>Chills</td>\n",
       "      <td>24.0</td>\n",
       "      <td>Confusional state</td>\n",
       "      <td>24.0</td>\n",
       "      <td>Eye inflammation</td>\n",
       "      <td>24.0</td>\n",
       "      <td>Headache</td>\n",
       "      <td>24.0</td>\n",
       "      <td>Laboratory test</td>\n",
       "      <td>24.0</td>\n",
       "    </tr>\n",
       "    <tr>\n",
       "      <th>6</th>\n",
       "      <td>916605</td>\n",
       "      <td>Pyrexia</td>\n",
       "      <td>24.0</td>\n",
       "      <td>White blood cell count decreased</td>\n",
       "      <td>24.0</td>\n",
       "      <td>NaN</td>\n",
       "      <td>NaN</td>\n",
       "      <td>NaN</td>\n",
       "      <td>NaN</td>\n",
       "      <td>NaN</td>\n",
       "      <td>NaN</td>\n",
       "    </tr>\n",
       "    <tr>\n",
       "      <th>12</th>\n",
       "      <td>916611</td>\n",
       "      <td>Blood pressure decreased</td>\n",
       "      <td>23.1</td>\n",
       "      <td>Chest pain</td>\n",
       "      <td>23.1</td>\n",
       "      <td>Chills</td>\n",
       "      <td>23.1</td>\n",
       "      <td>Confusional state</td>\n",
       "      <td>23.1</td>\n",
       "      <td>Decreased appetite</td>\n",
       "      <td>23.1</td>\n",
       "    </tr>\n",
       "    <tr>\n",
       "      <th>13</th>\n",
       "      <td>916611</td>\n",
       "      <td>Dyspnoea</td>\n",
       "      <td>23.1</td>\n",
       "      <td>Fatigue</td>\n",
       "      <td>23.1</td>\n",
       "      <td>Feeling abnormal</td>\n",
       "      <td>23.1</td>\n",
       "      <td>Head discomfort</td>\n",
       "      <td>23.1</td>\n",
       "      <td>Headache</td>\n",
       "      <td>23.1</td>\n",
       "    </tr>\n",
       "    <tr>\n",
       "      <th>14</th>\n",
       "      <td>916611</td>\n",
       "      <td>Heart rate decreased</td>\n",
       "      <td>23.1</td>\n",
       "      <td>Heart rate increased</td>\n",
       "      <td>23.1</td>\n",
       "      <td>Hypertension</td>\n",
       "      <td>23.1</td>\n",
       "      <td>Injection site pain</td>\n",
       "      <td>23.1</td>\n",
       "      <td>Musculoskeletal chest pain</td>\n",
       "      <td>23.1</td>\n",
       "    </tr>\n",
       "    <tr>\n",
       "      <th>...</th>\n",
       "      <td>...</td>\n",
       "      <td>...</td>\n",
       "      <td>...</td>\n",
       "      <td>...</td>\n",
       "      <td>...</td>\n",
       "      <td>...</td>\n",
       "      <td>...</td>\n",
       "      <td>...</td>\n",
       "      <td>...</td>\n",
       "      <td>...</td>\n",
       "      <td>...</td>\n",
       "    </tr>\n",
       "    <tr>\n",
       "      <th>779227</th>\n",
       "      <td>1730985</td>\n",
       "      <td>Arthralgia</td>\n",
       "      <td>24.1</td>\n",
       "      <td>Asthenia</td>\n",
       "      <td>24.1</td>\n",
       "      <td>Blood pressure fluctuation</td>\n",
       "      <td>24.1</td>\n",
       "      <td>Fatigue</td>\n",
       "      <td>24.1</td>\n",
       "      <td>Full blood count abnormal</td>\n",
       "      <td>24.1</td>\n",
       "    </tr>\n",
       "    <tr>\n",
       "      <th>779228</th>\n",
       "      <td>1730985</td>\n",
       "      <td>Headache</td>\n",
       "      <td>24.1</td>\n",
       "      <td>Myalgia</td>\n",
       "      <td>24.1</td>\n",
       "      <td>Mycoplasma test positive</td>\n",
       "      <td>24.1</td>\n",
       "      <td>Oropharyngeal pain</td>\n",
       "      <td>24.1</td>\n",
       "      <td>Pain</td>\n",
       "      <td>24.1</td>\n",
       "    </tr>\n",
       "    <tr>\n",
       "      <th>779231</th>\n",
       "      <td>1730987</td>\n",
       "      <td>Magnetic resonance imaging</td>\n",
       "      <td>24.1</td>\n",
       "      <td>Memory impairment</td>\n",
       "      <td>24.1</td>\n",
       "      <td>Metabolic encephalopathy</td>\n",
       "      <td>24.1</td>\n",
       "      <td>Nausea</td>\n",
       "      <td>24.1</td>\n",
       "      <td>Positron emission tomogram</td>\n",
       "      <td>24.1</td>\n",
       "    </tr>\n",
       "    <tr>\n",
       "      <th>779230</th>\n",
       "      <td>1730987</td>\n",
       "      <td>Balance disorder</td>\n",
       "      <td>24.1</td>\n",
       "      <td>Biopsy</td>\n",
       "      <td>24.1</td>\n",
       "      <td>Fatigue</td>\n",
       "      <td>24.1</td>\n",
       "      <td>Intensive care</td>\n",
       "      <td>24.1</td>\n",
       "      <td>Intracranial mass</td>\n",
       "      <td>24.1</td>\n",
       "    </tr>\n",
       "    <tr>\n",
       "      <th>779232</th>\n",
       "      <td>1730987</td>\n",
       "      <td>Somnolence</td>\n",
       "      <td>24.1</td>\n",
       "      <td>Vomiting</td>\n",
       "      <td>24.1</td>\n",
       "      <td>NaN</td>\n",
       "      <td>NaN</td>\n",
       "      <td>NaN</td>\n",
       "      <td>NaN</td>\n",
       "      <td>NaN</td>\n",
       "      <td>NaN</td>\n",
       "    </tr>\n",
       "  </tbody>\n",
       "</table>\n",
       "<p>342327 rows × 11 columns</p>\n",
       "</div>"
      ],
      "text/plain": [
       "        VAERS_ID                    SYMPTOM1  SYMPTOMVERSION1  \\\n",
       "5         916605                      Chills             24.0   \n",
       "6         916605                     Pyrexia             24.0   \n",
       "12        916611    Blood pressure decreased             23.1   \n",
       "13        916611                    Dyspnoea             23.1   \n",
       "14        916611        Heart rate decreased             23.1   \n",
       "...          ...                         ...              ...   \n",
       "779227   1730985                  Arthralgia             24.1   \n",
       "779228   1730985                    Headache             24.1   \n",
       "779231   1730987  Magnetic resonance imaging             24.1   \n",
       "779230   1730987            Balance disorder             24.1   \n",
       "779232   1730987                  Somnolence             24.1   \n",
       "\n",
       "                                SYMPTOM2  SYMPTOMVERSION2  \\\n",
       "5                      Confusional state             24.0   \n",
       "6       White blood cell count decreased             24.0   \n",
       "12                            Chest pain             23.1   \n",
       "13                               Fatigue             23.1   \n",
       "14                  Heart rate increased             23.1   \n",
       "...                                  ...              ...   \n",
       "779227                          Asthenia             24.1   \n",
       "779228                           Myalgia             24.1   \n",
       "779231                 Memory impairment             24.1   \n",
       "779230                            Biopsy             24.1   \n",
       "779232                          Vomiting             24.1   \n",
       "\n",
       "                          SYMPTOM3  SYMPTOMVERSION3             SYMPTOM4  \\\n",
       "5                 Eye inflammation             24.0             Headache   \n",
       "6                              NaN              NaN                  NaN   \n",
       "12                          Chills             23.1    Confusional state   \n",
       "13                Feeling abnormal             23.1      Head discomfort   \n",
       "14                    Hypertension             23.1  Injection site pain   \n",
       "...                            ...              ...                  ...   \n",
       "779227  Blood pressure fluctuation             24.1              Fatigue   \n",
       "779228    Mycoplasma test positive             24.1   Oropharyngeal pain   \n",
       "779231    Metabolic encephalopathy             24.1               Nausea   \n",
       "779230                     Fatigue             24.1       Intensive care   \n",
       "779232                         NaN              NaN                  NaN   \n",
       "\n",
       "        SYMPTOMVERSION4                    SYMPTOM5  SYMPTOMVERSION5  \n",
       "5                  24.0             Laboratory test             24.0  \n",
       "6                   NaN                         NaN              NaN  \n",
       "12                 23.1          Decreased appetite             23.1  \n",
       "13                 23.1                    Headache             23.1  \n",
       "14                 23.1  Musculoskeletal chest pain             23.1  \n",
       "...                 ...                         ...              ...  \n",
       "779227             24.1   Full blood count abnormal             24.1  \n",
       "779228             24.1                        Pain             24.1  \n",
       "779231             24.1  Positron emission tomogram             24.1  \n",
       "779230             24.1           Intracranial mass             24.1  \n",
       "779232              NaN                         NaN              NaN  \n",
       "\n",
       "[342327 rows x 11 columns]"
      ]
     },
     "execution_count": 38,
     "metadata": {},
     "output_type": "execute_result"
    }
   ],
   "source": [
    "symp_df.loc[symp_df.duplicated(subset=['VAERS_ID'],keep=False), :].sort_values('VAERS_ID')"
   ]
  },
  {
   "cell_type": "markdown",
   "id": "38d7c0b7",
   "metadata": {},
   "source": [
    "## Data cleaning for symp_df prior to merging into one main df"
   ]
  },
  {
   "cell_type": "markdown",
   "id": "b9a32b97",
   "metadata": {},
   "source": [
    "This dataset is organised by symptoms.  \n",
    "Each of the SYMPTOM columns are input for 1 symptom only.  \n",
    "\n",
    "If there is only 1 reported symptom, then the subsequent SYMPTOM columns will be NA. This reflects the pattern of missing values. \n",
    "\n",
    "If there are multiple symptoms, the subsequent columns SYMPTOM2 (till SYMPTOM5) will be populated with the symptoms. \n",
    "\n",
    "If there are more than 5 symptoms, it will roll over to the next row. This results in duplicate rows of VAERS_ID. \n",
    "\n",
    "SYMPTOMVERSION1 - SYMPTOMVERSION5 columns are not useful - can drop. \n",
    "\n",
    "Since VAERS_ID is our unique key, we need to collapse the SYMPTOM columns into one column 'SYMP', then create another column with the count of symptoms per VAERS_ID ('COUNT_SYMPT') before merging into the main dataframe. \n",
    "\n",
    "Therefore the data cleaning steps that will be included in the pipeline for symp_df will be as follows:  \n",
    "\n",
    "1. Convert the data type to string type  \n",
    "2. Fill missing values with blank string (\"\") so that we can use string methods safely (string methods will raise exceptions when there are NaN)  \n",
    "3. Join the symptom columns (SYMPTOM1, SYMPTOM2, SYMPTOM3, SYMPTOM4, SYMPTOM5) into one column 'SYMP', with each symptom separated by a comma (\",\") to differentiate between the different symptoms  \n",
    "4. Remove excess commas (\",,\") for blank symptoms \n",
    "5. Aggregate multiple rows of the same VAERS_ID into one row via grouping by 'VAERS_ID'  \n",
    "6. Create a new column 'COUNT_SYMP' by splitting the strings at the delimitor (',') and then counting the number of elements in 'SYMP' \n",
    "7. Use only 'VAERS_ID', 'SYMP' and 'COUNT_SYMPT' for merging with the main dataframe  "
   ]
  },
  {
   "cell_type": "markdown",
   "id": "65e58410",
   "metadata": {
    "ExecuteTime": {
     "end_time": "2021-10-05T03:55:07.260846Z",
     "start_time": "2021-10-05T03:55:07.245854Z"
    }
   },
   "source": [
    "# main_df"
   ]
  },
  {
   "cell_type": "markdown",
   "id": "12cd8800",
   "metadata": {
    "ExecuteTime": {
     "end_time": "2021-10-05T03:55:07.276377Z",
     "start_time": "2021-10-05T03:55:07.261836Z"
    }
   },
   "source": [
    "## Inspect dataset"
   ]
  },
  {
   "cell_type": "code",
   "execution_count": 39,
   "id": "8f62edfd",
   "metadata": {
    "ExecuteTime": {
     "end_time": "2021-10-05T04:19:24.444878Z",
     "start_time": "2021-10-05T04:19:24.436289Z"
    }
   },
   "outputs": [
    {
     "name": "stdout",
     "output_type": "stream",
     "text": [
      "Number of rows and columns: (583567, 35)\n"
     ]
    }
   ],
   "source": [
    "print(f\"Number of rows and columns: {main_df.shape}\")"
   ]
  },
  {
   "cell_type": "code",
   "execution_count": 40,
   "id": "5fe0b936",
   "metadata": {
    "ExecuteTime": {
     "end_time": "2021-10-05T04:19:34.596311Z",
     "start_time": "2021-10-05T04:19:34.180609Z"
    }
   },
   "outputs": [
    {
     "name": "stdout",
     "output_type": "stream",
     "text": [
      "<class 'pandas.core.frame.DataFrame'>\n",
      "RangeIndex: 583567 entries, 0 to 583566\n",
      "Data columns (total 35 columns):\n",
      " #   Column        Non-Null Count   Dtype  \n",
      "---  ------        --------------   -----  \n",
      " 0   VAERS_ID      583567 non-null  int64  \n",
      " 1   RECVDATE      583567 non-null  object \n",
      " 2   STATE         512140 non-null  object \n",
      " 3   AGE_YRS       522998 non-null  float64\n",
      " 4   CAGE_YR       468498 non-null  float64\n",
      " 5   CAGE_MO       1879 non-null    float64\n",
      " 6   SEX           583567 non-null  object \n",
      " 7   RPT_DATE      350 non-null     object \n",
      " 8   SYMPTOM_TEXT  583093 non-null  object \n",
      " 9   DIED          7421 non-null    object \n",
      " 10  DATEDIED      6638 non-null    object \n",
      " 11  L_THREAT      8989 non-null    object \n",
      " 12  ER_VISIT      52 non-null      object \n",
      " 13  HOSPITAL      34384 non-null   object \n",
      " 14  HOSPDAYS      23542 non-null   float64\n",
      " 15  X_STAY        313 non-null     object \n",
      " 16  DISABLE       9000 non-null    object \n",
      " 17  RECOVD        532643 non-null  object \n",
      " 18  VAX_DATE      542693 non-null  object \n",
      " 19  ONSET_DATE    537115 non-null  object \n",
      " 20  NUMDAYS       514536 non-null  float64\n",
      " 21  LAB_DATA      159122 non-null  object \n",
      " 22  V_ADMINBY     583567 non-null  object \n",
      " 23  V_FUNDBY      393 non-null     object \n",
      " 24  OTHER_MEDS    293941 non-null  object \n",
      " 25  CUR_ILL       122703 non-null  object \n",
      " 26  HISTORY       289133 non-null  object \n",
      " 27  PRIOR_VAX     27275 non-null   object \n",
      " 28  SPLTTYPE      170326 non-null  object \n",
      " 29  FORM_VERS     583567 non-null  int64  \n",
      " 30  TODAYS_DATE   580728 non-null  object \n",
      " 31  BIRTH_DEFECT  336 non-null     object \n",
      " 32  OFC_VISIT     110088 non-null  object \n",
      " 33  ER_ED_VISIT   72122 non-null   object \n",
      " 34  ALLERGIES     220645 non-null  object \n",
      "dtypes: float64(5), int64(2), object(28)\n",
      "memory usage: 155.8+ MB\n"
     ]
    }
   ],
   "source": [
    "main_df.info()"
   ]
  },
  {
   "cell_type": "code",
   "execution_count": 41,
   "id": "802ff127",
   "metadata": {
    "ExecuteTime": {
     "end_time": "2021-10-05T04:19:54.104572Z",
     "start_time": "2021-10-05T04:19:54.092356Z"
    }
   },
   "outputs": [
    {
     "data": {
      "text/html": [
       "<div>\n",
       "<style scoped>\n",
       "    .dataframe tbody tr th:only-of-type {\n",
       "        vertical-align: middle;\n",
       "    }\n",
       "\n",
       "    .dataframe tbody tr th {\n",
       "        vertical-align: top;\n",
       "    }\n",
       "\n",
       "    .dataframe thead th {\n",
       "        text-align: right;\n",
       "    }\n",
       "</style>\n",
       "<table border=\"1\" class=\"dataframe\">\n",
       "  <thead>\n",
       "    <tr style=\"text-align: right;\">\n",
       "      <th></th>\n",
       "      <th>0</th>\n",
       "      <th>1</th>\n",
       "      <th>2</th>\n",
       "      <th>3</th>\n",
       "      <th>4</th>\n",
       "    </tr>\n",
       "  </thead>\n",
       "  <tbody>\n",
       "    <tr>\n",
       "      <th>VAERS_ID</th>\n",
       "      <td>916600</td>\n",
       "      <td>916601</td>\n",
       "      <td>916602</td>\n",
       "      <td>916603</td>\n",
       "      <td>916604</td>\n",
       "    </tr>\n",
       "    <tr>\n",
       "      <th>RECVDATE</th>\n",
       "      <td>01/01/2021</td>\n",
       "      <td>01/01/2021</td>\n",
       "      <td>01/01/2021</td>\n",
       "      <td>01/01/2021</td>\n",
       "      <td>01/01/2021</td>\n",
       "    </tr>\n",
       "    <tr>\n",
       "      <th>STATE</th>\n",
       "      <td>TX</td>\n",
       "      <td>CA</td>\n",
       "      <td>WA</td>\n",
       "      <td>WA</td>\n",
       "      <td>TX</td>\n",
       "    </tr>\n",
       "    <tr>\n",
       "      <th>AGE_YRS</th>\n",
       "      <td>33.0</td>\n",
       "      <td>73.0</td>\n",
       "      <td>23.0</td>\n",
       "      <td>58.0</td>\n",
       "      <td>47.0</td>\n",
       "    </tr>\n",
       "    <tr>\n",
       "      <th>CAGE_YR</th>\n",
       "      <td>33.0</td>\n",
       "      <td>73.0</td>\n",
       "      <td>23.0</td>\n",
       "      <td>58.0</td>\n",
       "      <td>47.0</td>\n",
       "    </tr>\n",
       "    <tr>\n",
       "      <th>CAGE_MO</th>\n",
       "      <td>NaN</td>\n",
       "      <td>NaN</td>\n",
       "      <td>NaN</td>\n",
       "      <td>NaN</td>\n",
       "      <td>NaN</td>\n",
       "    </tr>\n",
       "    <tr>\n",
       "      <th>SEX</th>\n",
       "      <td>F</td>\n",
       "      <td>F</td>\n",
       "      <td>F</td>\n",
       "      <td>F</td>\n",
       "      <td>F</td>\n",
       "    </tr>\n",
       "    <tr>\n",
       "      <th>RPT_DATE</th>\n",
       "      <td>NaN</td>\n",
       "      <td>NaN</td>\n",
       "      <td>NaN</td>\n",
       "      <td>NaN</td>\n",
       "      <td>NaN</td>\n",
       "    </tr>\n",
       "    <tr>\n",
       "      <th>SYMPTOM_TEXT</th>\n",
       "      <td>Right side of epiglottis swelled up and hinder...</td>\n",
       "      <td>Approximately 30 min post vaccination administ...</td>\n",
       "      <td>About 15 minutes after receiving the vaccine, ...</td>\n",
       "      <td>extreme fatigue, dizziness,. could not lift my...</td>\n",
       "      <td>Injection site swelling, redness, warm to the ...</td>\n",
       "    </tr>\n",
       "    <tr>\n",
       "      <th>DIED</th>\n",
       "      <td>NaN</td>\n",
       "      <td>NaN</td>\n",
       "      <td>NaN</td>\n",
       "      <td>NaN</td>\n",
       "      <td>NaN</td>\n",
       "    </tr>\n",
       "    <tr>\n",
       "      <th>DATEDIED</th>\n",
       "      <td>NaN</td>\n",
       "      <td>NaN</td>\n",
       "      <td>NaN</td>\n",
       "      <td>NaN</td>\n",
       "      <td>NaN</td>\n",
       "    </tr>\n",
       "    <tr>\n",
       "      <th>L_THREAT</th>\n",
       "      <td>NaN</td>\n",
       "      <td>NaN</td>\n",
       "      <td>NaN</td>\n",
       "      <td>NaN</td>\n",
       "      <td>NaN</td>\n",
       "    </tr>\n",
       "    <tr>\n",
       "      <th>ER_VISIT</th>\n",
       "      <td>NaN</td>\n",
       "      <td>NaN</td>\n",
       "      <td>NaN</td>\n",
       "      <td>NaN</td>\n",
       "      <td>NaN</td>\n",
       "    </tr>\n",
       "    <tr>\n",
       "      <th>HOSPITAL</th>\n",
       "      <td>NaN</td>\n",
       "      <td>NaN</td>\n",
       "      <td>NaN</td>\n",
       "      <td>NaN</td>\n",
       "      <td>NaN</td>\n",
       "    </tr>\n",
       "    <tr>\n",
       "      <th>HOSPDAYS</th>\n",
       "      <td>NaN</td>\n",
       "      <td>NaN</td>\n",
       "      <td>NaN</td>\n",
       "      <td>NaN</td>\n",
       "      <td>NaN</td>\n",
       "    </tr>\n",
       "    <tr>\n",
       "      <th>X_STAY</th>\n",
       "      <td>NaN</td>\n",
       "      <td>NaN</td>\n",
       "      <td>NaN</td>\n",
       "      <td>NaN</td>\n",
       "      <td>NaN</td>\n",
       "    </tr>\n",
       "    <tr>\n",
       "      <th>DISABLE</th>\n",
       "      <td>NaN</td>\n",
       "      <td>NaN</td>\n",
       "      <td>NaN</td>\n",
       "      <td>NaN</td>\n",
       "      <td>NaN</td>\n",
       "    </tr>\n",
       "    <tr>\n",
       "      <th>RECOVD</th>\n",
       "      <td>Y</td>\n",
       "      <td>Y</td>\n",
       "      <td>U</td>\n",
       "      <td>Y</td>\n",
       "      <td>N</td>\n",
       "    </tr>\n",
       "    <tr>\n",
       "      <th>VAX_DATE</th>\n",
       "      <td>12/28/2020</td>\n",
       "      <td>12/31/2020</td>\n",
       "      <td>12/31/2020</td>\n",
       "      <td>12/23/2020</td>\n",
       "      <td>12/22/2020</td>\n",
       "    </tr>\n",
       "    <tr>\n",
       "      <th>ONSET_DATE</th>\n",
       "      <td>12/30/2020</td>\n",
       "      <td>12/31/2020</td>\n",
       "      <td>12/31/2020</td>\n",
       "      <td>12/23/2020</td>\n",
       "      <td>12/29/2020</td>\n",
       "    </tr>\n",
       "    <tr>\n",
       "      <th>NUMDAYS</th>\n",
       "      <td>2.0</td>\n",
       "      <td>0.0</td>\n",
       "      <td>0.0</td>\n",
       "      <td>0.0</td>\n",
       "      <td>7.0</td>\n",
       "    </tr>\n",
       "    <tr>\n",
       "      <th>LAB_DATA</th>\n",
       "      <td>NaN</td>\n",
       "      <td>NaN</td>\n",
       "      <td>NaN</td>\n",
       "      <td>NaN</td>\n",
       "      <td>NaN</td>\n",
       "    </tr>\n",
       "    <tr>\n",
       "      <th>V_ADMINBY</th>\n",
       "      <td>PVT</td>\n",
       "      <td>SEN</td>\n",
       "      <td>SEN</td>\n",
       "      <td>WRK</td>\n",
       "      <td>PUB</td>\n",
       "    </tr>\n",
       "    <tr>\n",
       "      <th>V_FUNDBY</th>\n",
       "      <td>NaN</td>\n",
       "      <td>NaN</td>\n",
       "      <td>NaN</td>\n",
       "      <td>NaN</td>\n",
       "      <td>NaN</td>\n",
       "    </tr>\n",
       "    <tr>\n",
       "      <th>OTHER_MEDS</th>\n",
       "      <td>NaN</td>\n",
       "      <td>Patient residing at nursing facility. See pati...</td>\n",
       "      <td>NaN</td>\n",
       "      <td>NaN</td>\n",
       "      <td>NaN</td>\n",
       "    </tr>\n",
       "    <tr>\n",
       "      <th>CUR_ILL</th>\n",
       "      <td>NaN</td>\n",
       "      <td>Patient residing at nursing facility. See pati...</td>\n",
       "      <td>NaN</td>\n",
       "      <td>kidney infection</td>\n",
       "      <td>NaN</td>\n",
       "    </tr>\n",
       "    <tr>\n",
       "      <th>HISTORY</th>\n",
       "      <td>NaN</td>\n",
       "      <td>Patient residing at nursing facility. See pati...</td>\n",
       "      <td>NaN</td>\n",
       "      <td>diverticulitis, mitral valve prolapse, osteoar...</td>\n",
       "      <td>NaN</td>\n",
       "    </tr>\n",
       "    <tr>\n",
       "      <th>PRIOR_VAX</th>\n",
       "      <td>NaN</td>\n",
       "      <td>NaN</td>\n",
       "      <td>NaN</td>\n",
       "      <td>got measles from measel shot, mums from mumps ...</td>\n",
       "      <td>NaN</td>\n",
       "    </tr>\n",
       "    <tr>\n",
       "      <th>SPLTTYPE</th>\n",
       "      <td>NaN</td>\n",
       "      <td>NaN</td>\n",
       "      <td>NaN</td>\n",
       "      <td>NaN</td>\n",
       "      <td>NaN</td>\n",
       "    </tr>\n",
       "    <tr>\n",
       "      <th>FORM_VERS</th>\n",
       "      <td>2</td>\n",
       "      <td>2</td>\n",
       "      <td>2</td>\n",
       "      <td>2</td>\n",
       "      <td>2</td>\n",
       "    </tr>\n",
       "    <tr>\n",
       "      <th>TODAYS_DATE</th>\n",
       "      <td>01/01/2021</td>\n",
       "      <td>01/01/2021</td>\n",
       "      <td>01/01/2021</td>\n",
       "      <td>01/01/2021</td>\n",
       "      <td>01/01/2021</td>\n",
       "    </tr>\n",
       "    <tr>\n",
       "      <th>BIRTH_DEFECT</th>\n",
       "      <td>NaN</td>\n",
       "      <td>NaN</td>\n",
       "      <td>NaN</td>\n",
       "      <td>NaN</td>\n",
       "      <td>NaN</td>\n",
       "    </tr>\n",
       "    <tr>\n",
       "      <th>OFC_VISIT</th>\n",
       "      <td>Y</td>\n",
       "      <td>Y</td>\n",
       "      <td>NaN</td>\n",
       "      <td>NaN</td>\n",
       "      <td>NaN</td>\n",
       "    </tr>\n",
       "    <tr>\n",
       "      <th>ER_ED_VISIT</th>\n",
       "      <td>NaN</td>\n",
       "      <td>NaN</td>\n",
       "      <td>Y</td>\n",
       "      <td>NaN</td>\n",
       "      <td>NaN</td>\n",
       "    </tr>\n",
       "    <tr>\n",
       "      <th>ALLERGIES</th>\n",
       "      <td>Pcn and bee venom</td>\n",
       "      <td>\"Dairy\"</td>\n",
       "      <td>Shellfish</td>\n",
       "      <td>Diclofenac, novacaine, lidocaine, pickles, tom...</td>\n",
       "      <td>NaN</td>\n",
       "    </tr>\n",
       "  </tbody>\n",
       "</table>\n",
       "</div>"
      ],
      "text/plain": [
       "                                                              0  \\\n",
       "VAERS_ID                                                 916600   \n",
       "RECVDATE                                             01/01/2021   \n",
       "STATE                                                        TX   \n",
       "AGE_YRS                                                    33.0   \n",
       "CAGE_YR                                                    33.0   \n",
       "CAGE_MO                                                     NaN   \n",
       "SEX                                                           F   \n",
       "RPT_DATE                                                    NaN   \n",
       "SYMPTOM_TEXT  Right side of epiglottis swelled up and hinder...   \n",
       "DIED                                                        NaN   \n",
       "DATEDIED                                                    NaN   \n",
       "L_THREAT                                                    NaN   \n",
       "ER_VISIT                                                    NaN   \n",
       "HOSPITAL                                                    NaN   \n",
       "HOSPDAYS                                                    NaN   \n",
       "X_STAY                                                      NaN   \n",
       "DISABLE                                                     NaN   \n",
       "RECOVD                                                        Y   \n",
       "VAX_DATE                                             12/28/2020   \n",
       "ONSET_DATE                                           12/30/2020   \n",
       "NUMDAYS                                                     2.0   \n",
       "LAB_DATA                                                    NaN   \n",
       "V_ADMINBY                                                   PVT   \n",
       "V_FUNDBY                                                    NaN   \n",
       "OTHER_MEDS                                                  NaN   \n",
       "CUR_ILL                                                     NaN   \n",
       "HISTORY                                                     NaN   \n",
       "PRIOR_VAX                                                   NaN   \n",
       "SPLTTYPE                                                    NaN   \n",
       "FORM_VERS                                                     2   \n",
       "TODAYS_DATE                                          01/01/2021   \n",
       "BIRTH_DEFECT                                                NaN   \n",
       "OFC_VISIT                                                     Y   \n",
       "ER_ED_VISIT                                                 NaN   \n",
       "ALLERGIES                                     Pcn and bee venom   \n",
       "\n",
       "                                                              1  \\\n",
       "VAERS_ID                                                 916601   \n",
       "RECVDATE                                             01/01/2021   \n",
       "STATE                                                        CA   \n",
       "AGE_YRS                                                    73.0   \n",
       "CAGE_YR                                                    73.0   \n",
       "CAGE_MO                                                     NaN   \n",
       "SEX                                                           F   \n",
       "RPT_DATE                                                    NaN   \n",
       "SYMPTOM_TEXT  Approximately 30 min post vaccination administ...   \n",
       "DIED                                                        NaN   \n",
       "DATEDIED                                                    NaN   \n",
       "L_THREAT                                                    NaN   \n",
       "ER_VISIT                                                    NaN   \n",
       "HOSPITAL                                                    NaN   \n",
       "HOSPDAYS                                                    NaN   \n",
       "X_STAY                                                      NaN   \n",
       "DISABLE                                                     NaN   \n",
       "RECOVD                                                        Y   \n",
       "VAX_DATE                                             12/31/2020   \n",
       "ONSET_DATE                                           12/31/2020   \n",
       "NUMDAYS                                                     0.0   \n",
       "LAB_DATA                                                    NaN   \n",
       "V_ADMINBY                                                   SEN   \n",
       "V_FUNDBY                                                    NaN   \n",
       "OTHER_MEDS    Patient residing at nursing facility. See pati...   \n",
       "CUR_ILL       Patient residing at nursing facility. See pati...   \n",
       "HISTORY       Patient residing at nursing facility. See pati...   \n",
       "PRIOR_VAX                                                   NaN   \n",
       "SPLTTYPE                                                    NaN   \n",
       "FORM_VERS                                                     2   \n",
       "TODAYS_DATE                                          01/01/2021   \n",
       "BIRTH_DEFECT                                                NaN   \n",
       "OFC_VISIT                                                     Y   \n",
       "ER_ED_VISIT                                                 NaN   \n",
       "ALLERGIES                                               \"Dairy\"   \n",
       "\n",
       "                                                              2  \\\n",
       "VAERS_ID                                                 916602   \n",
       "RECVDATE                                             01/01/2021   \n",
       "STATE                                                        WA   \n",
       "AGE_YRS                                                    23.0   \n",
       "CAGE_YR                                                    23.0   \n",
       "CAGE_MO                                                     NaN   \n",
       "SEX                                                           F   \n",
       "RPT_DATE                                                    NaN   \n",
       "SYMPTOM_TEXT  About 15 minutes after receiving the vaccine, ...   \n",
       "DIED                                                        NaN   \n",
       "DATEDIED                                                    NaN   \n",
       "L_THREAT                                                    NaN   \n",
       "ER_VISIT                                                    NaN   \n",
       "HOSPITAL                                                    NaN   \n",
       "HOSPDAYS                                                    NaN   \n",
       "X_STAY                                                      NaN   \n",
       "DISABLE                                                     NaN   \n",
       "RECOVD                                                        U   \n",
       "VAX_DATE                                             12/31/2020   \n",
       "ONSET_DATE                                           12/31/2020   \n",
       "NUMDAYS                                                     0.0   \n",
       "LAB_DATA                                                    NaN   \n",
       "V_ADMINBY                                                   SEN   \n",
       "V_FUNDBY                                                    NaN   \n",
       "OTHER_MEDS                                                  NaN   \n",
       "CUR_ILL                                                     NaN   \n",
       "HISTORY                                                     NaN   \n",
       "PRIOR_VAX                                                   NaN   \n",
       "SPLTTYPE                                                    NaN   \n",
       "FORM_VERS                                                     2   \n",
       "TODAYS_DATE                                          01/01/2021   \n",
       "BIRTH_DEFECT                                                NaN   \n",
       "OFC_VISIT                                                   NaN   \n",
       "ER_ED_VISIT                                                   Y   \n",
       "ALLERGIES                                             Shellfish   \n",
       "\n",
       "                                                              3  \\\n",
       "VAERS_ID                                                 916603   \n",
       "RECVDATE                                             01/01/2021   \n",
       "STATE                                                        WA   \n",
       "AGE_YRS                                                    58.0   \n",
       "CAGE_YR                                                    58.0   \n",
       "CAGE_MO                                                     NaN   \n",
       "SEX                                                           F   \n",
       "RPT_DATE                                                    NaN   \n",
       "SYMPTOM_TEXT  extreme fatigue, dizziness,. could not lift my...   \n",
       "DIED                                                        NaN   \n",
       "DATEDIED                                                    NaN   \n",
       "L_THREAT                                                    NaN   \n",
       "ER_VISIT                                                    NaN   \n",
       "HOSPITAL                                                    NaN   \n",
       "HOSPDAYS                                                    NaN   \n",
       "X_STAY                                                      NaN   \n",
       "DISABLE                                                     NaN   \n",
       "RECOVD                                                        Y   \n",
       "VAX_DATE                                             12/23/2020   \n",
       "ONSET_DATE                                           12/23/2020   \n",
       "NUMDAYS                                                     0.0   \n",
       "LAB_DATA                                                    NaN   \n",
       "V_ADMINBY                                                   WRK   \n",
       "V_FUNDBY                                                    NaN   \n",
       "OTHER_MEDS                                                  NaN   \n",
       "CUR_ILL                                        kidney infection   \n",
       "HISTORY       diverticulitis, mitral valve prolapse, osteoar...   \n",
       "PRIOR_VAX     got measles from measel shot, mums from mumps ...   \n",
       "SPLTTYPE                                                    NaN   \n",
       "FORM_VERS                                                     2   \n",
       "TODAYS_DATE                                          01/01/2021   \n",
       "BIRTH_DEFECT                                                NaN   \n",
       "OFC_VISIT                                                   NaN   \n",
       "ER_ED_VISIT                                                 NaN   \n",
       "ALLERGIES     Diclofenac, novacaine, lidocaine, pickles, tom...   \n",
       "\n",
       "                                                              4  \n",
       "VAERS_ID                                                 916604  \n",
       "RECVDATE                                             01/01/2021  \n",
       "STATE                                                        TX  \n",
       "AGE_YRS                                                    47.0  \n",
       "CAGE_YR                                                    47.0  \n",
       "CAGE_MO                                                     NaN  \n",
       "SEX                                                           F  \n",
       "RPT_DATE                                                    NaN  \n",
       "SYMPTOM_TEXT  Injection site swelling, redness, warm to the ...  \n",
       "DIED                                                        NaN  \n",
       "DATEDIED                                                    NaN  \n",
       "L_THREAT                                                    NaN  \n",
       "ER_VISIT                                                    NaN  \n",
       "HOSPITAL                                                    NaN  \n",
       "HOSPDAYS                                                    NaN  \n",
       "X_STAY                                                      NaN  \n",
       "DISABLE                                                     NaN  \n",
       "RECOVD                                                        N  \n",
       "VAX_DATE                                             12/22/2020  \n",
       "ONSET_DATE                                           12/29/2020  \n",
       "NUMDAYS                                                     7.0  \n",
       "LAB_DATA                                                    NaN  \n",
       "V_ADMINBY                                                   PUB  \n",
       "V_FUNDBY                                                    NaN  \n",
       "OTHER_MEDS                                                  NaN  \n",
       "CUR_ILL                                                     NaN  \n",
       "HISTORY                                                     NaN  \n",
       "PRIOR_VAX                                                   NaN  \n",
       "SPLTTYPE                                                    NaN  \n",
       "FORM_VERS                                                     2  \n",
       "TODAYS_DATE                                          01/01/2021  \n",
       "BIRTH_DEFECT                                                NaN  \n",
       "OFC_VISIT                                                   NaN  \n",
       "ER_ED_VISIT                                                 NaN  \n",
       "ALLERGIES                                                   NaN  "
      ]
     },
     "execution_count": 41,
     "metadata": {},
     "output_type": "execute_result"
    }
   ],
   "source": [
    "main_df.head(5).transpose()"
   ]
  },
  {
   "cell_type": "code",
   "execution_count": 42,
   "id": "b752fa9f",
   "metadata": {
    "ExecuteTime": {
     "end_time": "2021-10-05T04:20:14.016163Z",
     "start_time": "2021-10-05T04:20:13.988840Z"
    }
   },
   "outputs": [
    {
     "data": {
      "text/html": [
       "<div>\n",
       "<style scoped>\n",
       "    .dataframe tbody tr th:only-of-type {\n",
       "        vertical-align: middle;\n",
       "    }\n",
       "\n",
       "    .dataframe tbody tr th {\n",
       "        vertical-align: top;\n",
       "    }\n",
       "\n",
       "    .dataframe thead th {\n",
       "        text-align: right;\n",
       "    }\n",
       "</style>\n",
       "<table border=\"1\" class=\"dataframe\">\n",
       "  <thead>\n",
       "    <tr style=\"text-align: right;\">\n",
       "      <th></th>\n",
       "      <th>583562</th>\n",
       "      <th>583563</th>\n",
       "      <th>583564</th>\n",
       "      <th>583565</th>\n",
       "      <th>583566</th>\n",
       "    </tr>\n",
       "  </thead>\n",
       "  <tbody>\n",
       "    <tr>\n",
       "      <th>VAERS_ID</th>\n",
       "      <td>1730984</td>\n",
       "      <td>1730985</td>\n",
       "      <td>1730986</td>\n",
       "      <td>1730987</td>\n",
       "      <td>1730988</td>\n",
       "    </tr>\n",
       "    <tr>\n",
       "      <th>RECVDATE</th>\n",
       "      <td>09/24/2021</td>\n",
       "      <td>09/24/2021</td>\n",
       "      <td>09/24/2021</td>\n",
       "      <td>09/24/2021</td>\n",
       "      <td>09/24/2021</td>\n",
       "    </tr>\n",
       "    <tr>\n",
       "      <th>STATE</th>\n",
       "      <td>NaN</td>\n",
       "      <td>PR</td>\n",
       "      <td>CA</td>\n",
       "      <td>WV</td>\n",
       "      <td>MA</td>\n",
       "    </tr>\n",
       "    <tr>\n",
       "      <th>AGE_YRS</th>\n",
       "      <td>25.0</td>\n",
       "      <td>64.0</td>\n",
       "      <td>40.0</td>\n",
       "      <td>71.0</td>\n",
       "      <td>59.0</td>\n",
       "    </tr>\n",
       "    <tr>\n",
       "      <th>CAGE_YR</th>\n",
       "      <td>25.0</td>\n",
       "      <td>64.0</td>\n",
       "      <td>40.0</td>\n",
       "      <td>71.0</td>\n",
       "      <td>59.0</td>\n",
       "    </tr>\n",
       "    <tr>\n",
       "      <th>CAGE_MO</th>\n",
       "      <td>NaN</td>\n",
       "      <td>NaN</td>\n",
       "      <td>NaN</td>\n",
       "      <td>NaN</td>\n",
       "      <td>NaN</td>\n",
       "    </tr>\n",
       "    <tr>\n",
       "      <th>SEX</th>\n",
       "      <td>F</td>\n",
       "      <td>M</td>\n",
       "      <td>F</td>\n",
       "      <td>F</td>\n",
       "      <td>M</td>\n",
       "    </tr>\n",
       "    <tr>\n",
       "      <th>RPT_DATE</th>\n",
       "      <td>NaN</td>\n",
       "      <td>NaN</td>\n",
       "      <td>NaN</td>\n",
       "      <td>NaN</td>\n",
       "      <td>NaN</td>\n",
       "    </tr>\n",
       "    <tr>\n",
       "      <th>SYMPTOM_TEXT</th>\n",
       "      <td>I am still suffering from major skin irritatio...</td>\n",
       "      <td>Extreme body aches, all joints &amp;  muscles; tir...</td>\n",
       "      <td>I developed muscle twitching in both legs begi...</td>\n",
       "      <td>Patient came in on 9/18/21 \"I feel tired, slee...</td>\n",
       "      <td>Ear ringing.</td>\n",
       "    </tr>\n",
       "    <tr>\n",
       "      <th>DIED</th>\n",
       "      <td>NaN</td>\n",
       "      <td>NaN</td>\n",
       "      <td>NaN</td>\n",
       "      <td>NaN</td>\n",
       "      <td>NaN</td>\n",
       "    </tr>\n",
       "    <tr>\n",
       "      <th>DATEDIED</th>\n",
       "      <td>NaN</td>\n",
       "      <td>NaN</td>\n",
       "      <td>NaN</td>\n",
       "      <td>NaN</td>\n",
       "      <td>NaN</td>\n",
       "    </tr>\n",
       "    <tr>\n",
       "      <th>L_THREAT</th>\n",
       "      <td>NaN</td>\n",
       "      <td>NaN</td>\n",
       "      <td>NaN</td>\n",
       "      <td>NaN</td>\n",
       "      <td>NaN</td>\n",
       "    </tr>\n",
       "    <tr>\n",
       "      <th>ER_VISIT</th>\n",
       "      <td>NaN</td>\n",
       "      <td>NaN</td>\n",
       "      <td>NaN</td>\n",
       "      <td>NaN</td>\n",
       "      <td>NaN</td>\n",
       "    </tr>\n",
       "    <tr>\n",
       "      <th>HOSPITAL</th>\n",
       "      <td>NaN</td>\n",
       "      <td>NaN</td>\n",
       "      <td>NaN</td>\n",
       "      <td>Y</td>\n",
       "      <td>NaN</td>\n",
       "    </tr>\n",
       "    <tr>\n",
       "      <th>HOSPDAYS</th>\n",
       "      <td>NaN</td>\n",
       "      <td>NaN</td>\n",
       "      <td>NaN</td>\n",
       "      <td>NaN</td>\n",
       "      <td>NaN</td>\n",
       "    </tr>\n",
       "    <tr>\n",
       "      <th>X_STAY</th>\n",
       "      <td>NaN</td>\n",
       "      <td>NaN</td>\n",
       "      <td>NaN</td>\n",
       "      <td>NaN</td>\n",
       "      <td>NaN</td>\n",
       "    </tr>\n",
       "    <tr>\n",
       "      <th>DISABLE</th>\n",
       "      <td>NaN</td>\n",
       "      <td>NaN</td>\n",
       "      <td>NaN</td>\n",
       "      <td>NaN</td>\n",
       "      <td>NaN</td>\n",
       "    </tr>\n",
       "    <tr>\n",
       "      <th>RECOVD</th>\n",
       "      <td>N</td>\n",
       "      <td>U</td>\n",
       "      <td>N</td>\n",
       "      <td>U</td>\n",
       "      <td>U</td>\n",
       "    </tr>\n",
       "    <tr>\n",
       "      <th>VAX_DATE</th>\n",
       "      <td>05/01/2021</td>\n",
       "      <td>08/26/2021</td>\n",
       "      <td>08/29/2021</td>\n",
       "      <td>02/05/2021</td>\n",
       "      <td>08/05/2021</td>\n",
       "    </tr>\n",
       "    <tr>\n",
       "      <th>ONSET_DATE</th>\n",
       "      <td>05/28/2021</td>\n",
       "      <td>08/27/2021</td>\n",
       "      <td>08/30/2021</td>\n",
       "      <td>09/18/2021</td>\n",
       "      <td>08/08/2021</td>\n",
       "    </tr>\n",
       "    <tr>\n",
       "      <th>NUMDAYS</th>\n",
       "      <td>27.0</td>\n",
       "      <td>1.0</td>\n",
       "      <td>1.0</td>\n",
       "      <td>225.0</td>\n",
       "      <td>3.0</td>\n",
       "    </tr>\n",
       "    <tr>\n",
       "      <th>LAB_DATA</th>\n",
       "      <td>I did facial swabs and a slight fungal infecti...</td>\n",
       "      <td>CBC on 9/13/2021, mycoplasma detected &amp; antibi...</td>\n",
       "      <td>NaN</td>\n",
       "      <td>MRI, PET scan, Biopsy of 1 mass for tissue dx....</td>\n",
       "      <td>NaN</td>\n",
       "    </tr>\n",
       "    <tr>\n",
       "      <th>V_ADMINBY</th>\n",
       "      <td>PVT</td>\n",
       "      <td>PUB</td>\n",
       "      <td>PHM</td>\n",
       "      <td>PVT</td>\n",
       "      <td>PHM</td>\n",
       "    </tr>\n",
       "    <tr>\n",
       "      <th>V_FUNDBY</th>\n",
       "      <td>NaN</td>\n",
       "      <td>NaN</td>\n",
       "      <td>NaN</td>\n",
       "      <td>NaN</td>\n",
       "      <td>NaN</td>\n",
       "    </tr>\n",
       "    <tr>\n",
       "      <th>OTHER_MEDS</th>\n",
       "      <td>NaN</td>\n",
       "      <td>NaN</td>\n",
       "      <td>Multi-Vitamins</td>\n",
       "      <td>NaN</td>\n",
       "      <td>Avastatin</td>\n",
       "    </tr>\n",
       "    <tr>\n",
       "      <th>CUR_ILL</th>\n",
       "      <td>NaN</td>\n",
       "      <td>NaN</td>\n",
       "      <td>NaN</td>\n",
       "      <td>Diabetes Mellitus type 2, HTN, benign right br...</td>\n",
       "      <td>NaN</td>\n",
       "    </tr>\n",
       "    <tr>\n",
       "      <th>HISTORY</th>\n",
       "      <td>NaN</td>\n",
       "      <td>Kidney stones</td>\n",
       "      <td>NaN</td>\n",
       "      <td>Diabetes Mellitus type 2, HTN, benign right br...</td>\n",
       "      <td>NaN</td>\n",
       "    </tr>\n",
       "    <tr>\n",
       "      <th>PRIOR_VAX</th>\n",
       "      <td>NaN</td>\n",
       "      <td>NaN</td>\n",
       "      <td>NaN</td>\n",
       "      <td>NaN</td>\n",
       "      <td>NaN</td>\n",
       "    </tr>\n",
       "    <tr>\n",
       "      <th>SPLTTYPE</th>\n",
       "      <td>NaN</td>\n",
       "      <td>NaN</td>\n",
       "      <td>NaN</td>\n",
       "      <td>NaN</td>\n",
       "      <td>NaN</td>\n",
       "    </tr>\n",
       "    <tr>\n",
       "      <th>FORM_VERS</th>\n",
       "      <td>2</td>\n",
       "      <td>2</td>\n",
       "      <td>2</td>\n",
       "      <td>2</td>\n",
       "      <td>2</td>\n",
       "    </tr>\n",
       "    <tr>\n",
       "      <th>TODAYS_DATE</th>\n",
       "      <td>09/24/2021</td>\n",
       "      <td>09/24/2021</td>\n",
       "      <td>09/24/2021</td>\n",
       "      <td>09/24/2021</td>\n",
       "      <td>09/24/2021</td>\n",
       "    </tr>\n",
       "    <tr>\n",
       "      <th>BIRTH_DEFECT</th>\n",
       "      <td>NaN</td>\n",
       "      <td>NaN</td>\n",
       "      <td>NaN</td>\n",
       "      <td>NaN</td>\n",
       "      <td>NaN</td>\n",
       "    </tr>\n",
       "    <tr>\n",
       "      <th>OFC_VISIT</th>\n",
       "      <td>NaN</td>\n",
       "      <td>Y</td>\n",
       "      <td>NaN</td>\n",
       "      <td>NaN</td>\n",
       "      <td>NaN</td>\n",
       "    </tr>\n",
       "    <tr>\n",
       "      <th>ER_ED_VISIT</th>\n",
       "      <td>NaN</td>\n",
       "      <td>NaN</td>\n",
       "      <td>NaN</td>\n",
       "      <td>NaN</td>\n",
       "      <td>NaN</td>\n",
       "    </tr>\n",
       "    <tr>\n",
       "      <th>ALLERGIES</th>\n",
       "      <td>NaN</td>\n",
       "      <td>NaN</td>\n",
       "      <td>NaN</td>\n",
       "      <td>Amoxicillin</td>\n",
       "      <td>NaN</td>\n",
       "    </tr>\n",
       "  </tbody>\n",
       "</table>\n",
       "</div>"
      ],
      "text/plain": [
       "                                                         583562  \\\n",
       "VAERS_ID                                                1730984   \n",
       "RECVDATE                                             09/24/2021   \n",
       "STATE                                                       NaN   \n",
       "AGE_YRS                                                    25.0   \n",
       "CAGE_YR                                                    25.0   \n",
       "CAGE_MO                                                     NaN   \n",
       "SEX                                                           F   \n",
       "RPT_DATE                                                    NaN   \n",
       "SYMPTOM_TEXT  I am still suffering from major skin irritatio...   \n",
       "DIED                                                        NaN   \n",
       "DATEDIED                                                    NaN   \n",
       "L_THREAT                                                    NaN   \n",
       "ER_VISIT                                                    NaN   \n",
       "HOSPITAL                                                    NaN   \n",
       "HOSPDAYS                                                    NaN   \n",
       "X_STAY                                                      NaN   \n",
       "DISABLE                                                     NaN   \n",
       "RECOVD                                                        N   \n",
       "VAX_DATE                                             05/01/2021   \n",
       "ONSET_DATE                                           05/28/2021   \n",
       "NUMDAYS                                                    27.0   \n",
       "LAB_DATA      I did facial swabs and a slight fungal infecti...   \n",
       "V_ADMINBY                                                   PVT   \n",
       "V_FUNDBY                                                    NaN   \n",
       "OTHER_MEDS                                                  NaN   \n",
       "CUR_ILL                                                     NaN   \n",
       "HISTORY                                                     NaN   \n",
       "PRIOR_VAX                                                   NaN   \n",
       "SPLTTYPE                                                    NaN   \n",
       "FORM_VERS                                                     2   \n",
       "TODAYS_DATE                                          09/24/2021   \n",
       "BIRTH_DEFECT                                                NaN   \n",
       "OFC_VISIT                                                   NaN   \n",
       "ER_ED_VISIT                                                 NaN   \n",
       "ALLERGIES                                                   NaN   \n",
       "\n",
       "                                                         583563  \\\n",
       "VAERS_ID                                                1730985   \n",
       "RECVDATE                                             09/24/2021   \n",
       "STATE                                                        PR   \n",
       "AGE_YRS                                                    64.0   \n",
       "CAGE_YR                                                    64.0   \n",
       "CAGE_MO                                                     NaN   \n",
       "SEX                                                           M   \n",
       "RPT_DATE                                                    NaN   \n",
       "SYMPTOM_TEXT  Extreme body aches, all joints &  muscles; tir...   \n",
       "DIED                                                        NaN   \n",
       "DATEDIED                                                    NaN   \n",
       "L_THREAT                                                    NaN   \n",
       "ER_VISIT                                                    NaN   \n",
       "HOSPITAL                                                    NaN   \n",
       "HOSPDAYS                                                    NaN   \n",
       "X_STAY                                                      NaN   \n",
       "DISABLE                                                     NaN   \n",
       "RECOVD                                                        U   \n",
       "VAX_DATE                                             08/26/2021   \n",
       "ONSET_DATE                                           08/27/2021   \n",
       "NUMDAYS                                                     1.0   \n",
       "LAB_DATA      CBC on 9/13/2021, mycoplasma detected & antibi...   \n",
       "V_ADMINBY                                                   PUB   \n",
       "V_FUNDBY                                                    NaN   \n",
       "OTHER_MEDS                                                  NaN   \n",
       "CUR_ILL                                                     NaN   \n",
       "HISTORY                                           Kidney stones   \n",
       "PRIOR_VAX                                                   NaN   \n",
       "SPLTTYPE                                                    NaN   \n",
       "FORM_VERS                                                     2   \n",
       "TODAYS_DATE                                          09/24/2021   \n",
       "BIRTH_DEFECT                                                NaN   \n",
       "OFC_VISIT                                                     Y   \n",
       "ER_ED_VISIT                                                 NaN   \n",
       "ALLERGIES                                                   NaN   \n",
       "\n",
       "                                                         583564  \\\n",
       "VAERS_ID                                                1730986   \n",
       "RECVDATE                                             09/24/2021   \n",
       "STATE                                                        CA   \n",
       "AGE_YRS                                                    40.0   \n",
       "CAGE_YR                                                    40.0   \n",
       "CAGE_MO                                                     NaN   \n",
       "SEX                                                           F   \n",
       "RPT_DATE                                                    NaN   \n",
       "SYMPTOM_TEXT  I developed muscle twitching in both legs begi...   \n",
       "DIED                                                        NaN   \n",
       "DATEDIED                                                    NaN   \n",
       "L_THREAT                                                    NaN   \n",
       "ER_VISIT                                                    NaN   \n",
       "HOSPITAL                                                    NaN   \n",
       "HOSPDAYS                                                    NaN   \n",
       "X_STAY                                                      NaN   \n",
       "DISABLE                                                     NaN   \n",
       "RECOVD                                                        N   \n",
       "VAX_DATE                                             08/29/2021   \n",
       "ONSET_DATE                                           08/30/2021   \n",
       "NUMDAYS                                                     1.0   \n",
       "LAB_DATA                                                    NaN   \n",
       "V_ADMINBY                                                   PHM   \n",
       "V_FUNDBY                                                    NaN   \n",
       "OTHER_MEDS                                       Multi-Vitamins   \n",
       "CUR_ILL                                                     NaN   \n",
       "HISTORY                                                     NaN   \n",
       "PRIOR_VAX                                                   NaN   \n",
       "SPLTTYPE                                                    NaN   \n",
       "FORM_VERS                                                     2   \n",
       "TODAYS_DATE                                          09/24/2021   \n",
       "BIRTH_DEFECT                                                NaN   \n",
       "OFC_VISIT                                                   NaN   \n",
       "ER_ED_VISIT                                                 NaN   \n",
       "ALLERGIES                                                   NaN   \n",
       "\n",
       "                                                         583565        583566  \n",
       "VAERS_ID                                                1730987       1730988  \n",
       "RECVDATE                                             09/24/2021    09/24/2021  \n",
       "STATE                                                        WV            MA  \n",
       "AGE_YRS                                                    71.0          59.0  \n",
       "CAGE_YR                                                    71.0          59.0  \n",
       "CAGE_MO                                                     NaN           NaN  \n",
       "SEX                                                           F             M  \n",
       "RPT_DATE                                                    NaN           NaN  \n",
       "SYMPTOM_TEXT  Patient came in on 9/18/21 \"I feel tired, slee...  Ear ringing.  \n",
       "DIED                                                        NaN           NaN  \n",
       "DATEDIED                                                    NaN           NaN  \n",
       "L_THREAT                                                    NaN           NaN  \n",
       "ER_VISIT                                                    NaN           NaN  \n",
       "HOSPITAL                                                      Y           NaN  \n",
       "HOSPDAYS                                                    NaN           NaN  \n",
       "X_STAY                                                      NaN           NaN  \n",
       "DISABLE                                                     NaN           NaN  \n",
       "RECOVD                                                        U             U  \n",
       "VAX_DATE                                             02/05/2021    08/05/2021  \n",
       "ONSET_DATE                                           09/18/2021    08/08/2021  \n",
       "NUMDAYS                                                   225.0           3.0  \n",
       "LAB_DATA      MRI, PET scan, Biopsy of 1 mass for tissue dx....           NaN  \n",
       "V_ADMINBY                                                   PVT           PHM  \n",
       "V_FUNDBY                                                    NaN           NaN  \n",
       "OTHER_MEDS                                                  NaN     Avastatin  \n",
       "CUR_ILL       Diabetes Mellitus type 2, HTN, benign right br...           NaN  \n",
       "HISTORY       Diabetes Mellitus type 2, HTN, benign right br...           NaN  \n",
       "PRIOR_VAX                                                   NaN           NaN  \n",
       "SPLTTYPE                                                    NaN           NaN  \n",
       "FORM_VERS                                                     2             2  \n",
       "TODAYS_DATE                                          09/24/2021    09/24/2021  \n",
       "BIRTH_DEFECT                                                NaN           NaN  \n",
       "OFC_VISIT                                                   NaN           NaN  \n",
       "ER_ED_VISIT                                                 NaN           NaN  \n",
       "ALLERGIES                                           Amoxicillin           NaN  "
      ]
     },
     "execution_count": 42,
     "metadata": {},
     "output_type": "execute_result"
    }
   ],
   "source": [
    "main_df.tail(5).transpose()"
   ]
  },
  {
   "cell_type": "markdown",
   "id": "8950daf4",
   "metadata": {
    "ExecuteTime": {
     "end_time": "2021-10-05T03:55:07.292029Z",
     "start_time": "2021-10-05T03:55:07.279366Z"
    }
   },
   "source": [
    "## Missing values "
   ]
  },
  {
   "cell_type": "code",
   "execution_count": 43,
   "id": "362e0d14",
   "metadata": {
    "ExecuteTime": {
     "end_time": "2021-10-05T04:20:41.562782Z",
     "start_time": "2021-10-05T04:20:40.764861Z"
    },
    "scrolled": false
   },
   "outputs": [
    {
     "name": "stdout",
     "output_type": "stream",
     "text": [
      "Number of missing or NA values for each column out of 583567 rows:          \n",
      " VAERS_ID             0\n",
      "RECVDATE             0\n",
      "STATE            71427\n",
      "AGE_YRS          60569\n",
      "CAGE_YR         115069\n",
      "CAGE_MO         581688\n",
      "SEX                  0\n",
      "RPT_DATE        583217\n",
      "SYMPTOM_TEXT       474\n",
      "DIED            576146\n",
      "DATEDIED        576929\n",
      "L_THREAT        574578\n",
      "ER_VISIT        583515\n",
      "HOSPITAL        549183\n",
      "HOSPDAYS        560025\n",
      "X_STAY          583254\n",
      "DISABLE         574567\n",
      "RECOVD           50924\n",
      "VAX_DATE         40874\n",
      "ONSET_DATE       46452\n",
      "NUMDAYS          69031\n",
      "LAB_DATA        424445\n",
      "V_ADMINBY            0\n",
      "V_FUNDBY        583174\n",
      "OTHER_MEDS      289626\n",
      "CUR_ILL         460864\n",
      "HISTORY         294434\n",
      "PRIOR_VAX       556292\n",
      "SPLTTYPE        413241\n",
      "FORM_VERS            0\n",
      "TODAYS_DATE       2839\n",
      "BIRTH_DEFECT    583231\n",
      "OFC_VISIT       473479\n",
      "ER_ED_VISIT     511445\n",
      "ALLERGIES       362922\n",
      "dtype: int64\n",
      "########################################\n",
      "Percentage of missing or NA values for each column out of 583567 rows:          \n",
      " VAERS_ID          0.0\n",
      "RECVDATE          0.0\n",
      "STATE            12.0\n",
      "AGE_YRS          10.0\n",
      "CAGE_YR          20.0\n",
      "CAGE_MO         100.0\n",
      "SEX               0.0\n",
      "RPT_DATE        100.0\n",
      "SYMPTOM_TEXT      0.0\n",
      "DIED             99.0\n",
      "DATEDIED         99.0\n",
      "L_THREAT         98.0\n",
      "ER_VISIT        100.0\n",
      "HOSPITAL         94.0\n",
      "HOSPDAYS         96.0\n",
      "X_STAY          100.0\n",
      "DISABLE          98.0\n",
      "RECOVD            9.0\n",
      "VAX_DATE          7.0\n",
      "ONSET_DATE        8.0\n",
      "NUMDAYS          12.0\n",
      "LAB_DATA         73.0\n",
      "V_ADMINBY         0.0\n",
      "V_FUNDBY        100.0\n",
      "OTHER_MEDS       50.0\n",
      "CUR_ILL          79.0\n",
      "HISTORY          50.0\n",
      "PRIOR_VAX        95.0\n",
      "SPLTTYPE         71.0\n",
      "FORM_VERS         0.0\n",
      "TODAYS_DATE       0.0\n",
      "BIRTH_DEFECT    100.0\n",
      "OFC_VISIT        81.0\n",
      "ER_ED_VISIT      88.0\n",
      "ALLERGIES        62.0\n",
      "dtype: float64\n"
     ]
    }
   ],
   "source": [
    "check_missing(main_df)"
   ]
  },
  {
   "cell_type": "markdown",
   "id": "e0d2fd7d",
   "metadata": {},
   "source": [
    "## Number of unique values per column"
   ]
  },
  {
   "cell_type": "code",
   "execution_count": 44,
   "id": "920f78f6",
   "metadata": {
    "ExecuteTime": {
     "end_time": "2021-10-05T04:21:38.407130Z",
     "start_time": "2021-10-05T04:21:36.755955Z"
    }
   },
   "outputs": [
    {
     "name": "stdout",
     "output_type": "stream",
     "text": [
      "Number of unique values for each column out of a total of 583567 rows: \n",
      " VAERS_ID        583567\n",
      "RECVDATE           267\n",
      "STATE               64\n",
      "AGE_YRS            145\n",
      "CAGE_YR            115\n",
      "CAGE_MO             11\n",
      "SEX                  3\n",
      "RPT_DATE           109\n",
      "SYMPTOM_TEXT    557274\n",
      "DIED                 1\n",
      "DATEDIED           303\n",
      "L_THREAT             1\n",
      "ER_VISIT             1\n",
      "HOSPITAL             1\n",
      "HOSPDAYS            99\n",
      "X_STAY               1\n",
      "DISABLE              1\n",
      "RECOVD               3\n",
      "VAX_DATE          1751\n",
      "ONSET_DATE        1164\n",
      "NUMDAYS            845\n",
      "LAB_DATA        129137\n",
      "V_ADMINBY            9\n",
      "V_FUNDBY             5\n",
      "OTHER_MEDS      221891\n",
      "CUR_ILL          52655\n",
      "HISTORY         149649\n",
      "PRIOR_VAX        24313\n",
      "SPLTTYPE         81477\n",
      "FORM_VERS            2\n",
      "TODAYS_DATE        375\n",
      "BIRTH_DEFECT         1\n",
      "OFC_VISIT            1\n",
      "ER_ED_VISIT          1\n",
      "ALLERGIES       101497\n",
      "dtype: int64\n"
     ]
    }
   ],
   "source": [
    "check_unique(main_df)"
   ]
  },
  {
   "cell_type": "markdown",
   "id": "dff7aee9",
   "metadata": {
    "ExecuteTime": {
     "end_time": "2021-10-05T03:55:07.308098Z",
     "start_time": "2021-10-05T03:55:07.292982Z"
    }
   },
   "source": [
    "## Duplicates"
   ]
  },
  {
   "cell_type": "code",
   "execution_count": 45,
   "id": "3e43c8c5",
   "metadata": {
    "ExecuteTime": {
     "end_time": "2021-10-05T04:21:54.090171Z",
     "start_time": "2021-10-05T04:21:52.860031Z"
    }
   },
   "outputs": [
    {
     "name": "stdout",
     "output_type": "stream",
     "text": [
      "There are 0 complete duplicate rows in this dataset\n"
     ]
    }
   ],
   "source": [
    "print(f\"There are {main_df.duplicated().sum()} complete duplicate rows in this dataset\")"
   ]
  },
  {
   "cell_type": "code",
   "execution_count": 46,
   "id": "d892b934",
   "metadata": {
    "ExecuteTime": {
     "end_time": "2021-10-05T04:22:11.404538Z",
     "start_time": "2021-10-05T04:22:11.358490Z"
    }
   },
   "outputs": [
    {
     "name": "stdout",
     "output_type": "stream",
     "text": [
      "There are 0 duplicate rows of VAERS_ID in this dataset\n"
     ]
    }
   ],
   "source": [
    "print(f\"There are {main_df.duplicated(subset=['VAERS_ID']).sum()} duplicate rows of VAERS_ID in this dataset\")"
   ]
  },
  {
   "cell_type": "markdown",
   "id": "26807c9e",
   "metadata": {},
   "source": [
    "## Check date range"
   ]
  },
  {
   "cell_type": "markdown",
   "id": "532987df",
   "metadata": {},
   "source": [
    "This dataset is too large for our demo purposes (583567 rows).  \n",
    "Limit the date range of the dataset prior to merging. \n",
    "Check the current date range:"
   ]
  },
  {
   "cell_type": "code",
   "execution_count": 47,
   "id": "b36c36c7",
   "metadata": {
    "ExecuteTime": {
     "end_time": "2021-10-05T04:23:37.222600Z",
     "start_time": "2021-10-05T04:23:36.428267Z"
    }
   },
   "outputs": [],
   "source": [
    "date_cols = [\n",
    "            col\n",
    "            for col in main_df.columns.tolist() \n",
    "            if 'DATE' in col\n",
    "        ]\n",
    "for date_col in date_cols:\n",
    "    main_df[date_col] = pd.to_datetime(main_df[date_col])"
   ]
  },
  {
   "cell_type": "code",
   "execution_count": 58,
   "id": "3f196c7c",
   "metadata": {
    "ExecuteTime": {
     "end_time": "2021-10-05T04:30:01.927560Z",
     "start_time": "2021-10-05T04:30:01.605476Z"
    }
   },
   "outputs": [
    {
     "name": "stdout",
     "output_type": "stream",
     "text": [
      "<class 'pandas.core.frame.DataFrame'>\n",
      "RangeIndex: 583567 entries, 0 to 583566\n",
      "Data columns (total 35 columns):\n",
      " #   Column        Non-Null Count   Dtype         \n",
      "---  ------        --------------   -----         \n",
      " 0   VAERS_ID      583567 non-null  int64         \n",
      " 1   RECVDATE      583567 non-null  datetime64[ns]\n",
      " 2   STATE         512140 non-null  object        \n",
      " 3   AGE_YRS       522998 non-null  float64       \n",
      " 4   CAGE_YR       468498 non-null  float64       \n",
      " 5   CAGE_MO       1879 non-null    float64       \n",
      " 6   SEX           583567 non-null  object        \n",
      " 7   RPT_DATE      350 non-null     datetime64[ns]\n",
      " 8   SYMPTOM_TEXT  583093 non-null  object        \n",
      " 9   DIED          7421 non-null    object        \n",
      " 10  DATEDIED      6638 non-null    datetime64[ns]\n",
      " 11  L_THREAT      8989 non-null    object        \n",
      " 12  ER_VISIT      52 non-null      object        \n",
      " 13  HOSPITAL      34384 non-null   object        \n",
      " 14  HOSPDAYS      23542 non-null   float64       \n",
      " 15  X_STAY        313 non-null     object        \n",
      " 16  DISABLE       9000 non-null    object        \n",
      " 17  RECOVD        532643 non-null  object        \n",
      " 18  VAX_DATE      542693 non-null  datetime64[ns]\n",
      " 19  ONSET_DATE    537115 non-null  datetime64[ns]\n",
      " 20  NUMDAYS       514536 non-null  float64       \n",
      " 21  LAB_DATA      159122 non-null  object        \n",
      " 22  V_ADMINBY     583567 non-null  object        \n",
      " 23  V_FUNDBY      393 non-null     object        \n",
      " 24  OTHER_MEDS    293941 non-null  object        \n",
      " 25  CUR_ILL       122703 non-null  object        \n",
      " 26  HISTORY       289133 non-null  object        \n",
      " 27  PRIOR_VAX     27275 non-null   object        \n",
      " 28  SPLTTYPE      170326 non-null  object        \n",
      " 29  FORM_VERS     583567 non-null  int64         \n",
      " 30  TODAYS_DATE   580728 non-null  datetime64[ns]\n",
      " 31  BIRTH_DEFECT  336 non-null     object        \n",
      " 32  OFC_VISIT     110088 non-null  object        \n",
      " 33  ER_ED_VISIT   72122 non-null   object        \n",
      " 34  ALLERGIES     220645 non-null  object        \n",
      "dtypes: datetime64[ns](6), float64(5), int64(2), object(22)\n",
      "memory usage: 155.8+ MB\n"
     ]
    }
   ],
   "source": [
    "main_df.info()"
   ]
  },
  {
   "cell_type": "markdown",
   "id": "e9acdd6a",
   "metadata": {},
   "source": [
    "**RECVDATE**: Date report was received. The date the VAERS form information was received to the processing center.    \n",
    "Since this is the only date column without any missing values, we can use this column to subset the dataset date range "
   ]
  },
  {
   "cell_type": "code",
   "execution_count": 51,
   "id": "24d45500",
   "metadata": {
    "ExecuteTime": {
     "end_time": "2021-10-05T04:25:43.128460Z",
     "start_time": "2021-10-05T04:25:43.117752Z"
    }
   },
   "outputs": [
    {
     "data": {
      "text/plain": [
       "Timestamp('2021-09-24 00:00:00')"
      ]
     },
     "execution_count": 51,
     "metadata": {},
     "output_type": "execute_result"
    }
   ],
   "source": [
    "main_df.RECVDATE.max()"
   ]
  },
  {
   "cell_type": "code",
   "execution_count": 59,
   "id": "34a93796",
   "metadata": {
    "ExecuteTime": {
     "end_time": "2021-10-05T04:30:51.235054Z",
     "start_time": "2021-10-05T04:30:51.219811Z"
    }
   },
   "outputs": [
    {
     "data": {
      "text/plain": [
       "Timestamp('2021-01-01 00:00:00')"
      ]
     },
     "execution_count": 59,
     "metadata": {},
     "output_type": "execute_result"
    }
   ],
   "source": [
    "main_df.RECVDATE.min()"
   ]
  },
  {
   "cell_type": "code",
   "execution_count": 62,
   "id": "301b7712",
   "metadata": {
    "ExecuteTime": {
     "end_time": "2021-10-05T04:31:48.272382Z",
     "start_time": "2021-10-05T04:31:48.201674Z"
    }
   },
   "outputs": [],
   "source": [
    "main_subset = main_df.loc[\n",
    "    main_df['RECVDATE'] < \"2021-04-01\",\n",
    "    :]"
   ]
  },
  {
   "cell_type": "code",
   "execution_count": 64,
   "id": "cd4fee79",
   "metadata": {
    "ExecuteTime": {
     "end_time": "2021-10-05T04:32:00.323839Z",
     "start_time": "2021-10-05T04:32:00.197650Z"
    }
   },
   "outputs": [
    {
     "name": "stdout",
     "output_type": "stream",
     "text": [
      "<class 'pandas.core.frame.DataFrame'>\n",
      "Int64Index: 199697 entries, 0 to 199696\n",
      "Data columns (total 35 columns):\n",
      " #   Column        Non-Null Count   Dtype         \n",
      "---  ------        --------------   -----         \n",
      " 0   VAERS_ID      199697 non-null  int64         \n",
      " 1   RECVDATE      199697 non-null  datetime64[ns]\n",
      " 2   STATE         178896 non-null  object        \n",
      " 3   AGE_YRS       189290 non-null  float64       \n",
      " 4   CAGE_YR       178492 non-null  float64       \n",
      " 5   CAGE_MO       659 non-null     float64       \n",
      " 6   SEX           199697 non-null  object        \n",
      " 7   RPT_DATE      304 non-null     datetime64[ns]\n",
      " 8   SYMPTOM_TEXT  199523 non-null  object        \n",
      " 9   DIED          2526 non-null    object        \n",
      " 10  DATEDIED      2326 non-null    datetime64[ns]\n",
      " 11  L_THREAT      2041 non-null    object        \n",
      " 12  ER_VISIT      39 non-null      object        \n",
      " 13  HOSPITAL      7048 non-null    object        \n",
      " 14  HOSPDAYS      4603 non-null    float64       \n",
      " 15  X_STAY        100 non-null     object        \n",
      " 16  DISABLE       1606 non-null    object        \n",
      " 17  RECOVD        180794 non-null  object        \n",
      " 18  VAX_DATE      194897 non-null  datetime64[ns]\n",
      " 19  ONSET_DATE    193546 non-null  datetime64[ns]\n",
      " 20  NUMDAYS       190400 non-null  float64       \n",
      " 21  LAB_DATA      48511 non-null   object        \n",
      " 22  V_ADMINBY     199697 non-null  object        \n",
      " 23  V_FUNDBY      339 non-null     object        \n",
      " 24  OTHER_MEDS    120091 non-null  object        \n",
      " 25  CUR_ILL       44060 non-null   object        \n",
      " 26  HISTORY       108289 non-null  object        \n",
      " 27  PRIOR_VAX     12720 non-null   object        \n",
      " 28  SPLTTYPE      24619 non-null   object        \n",
      " 29  FORM_VERS     199697 non-null  int64         \n",
      " 30  TODAYS_DATE   198477 non-null  datetime64[ns]\n",
      " 31  BIRTH_DEFECT  84 non-null      object        \n",
      " 32  OFC_VISIT     34809 non-null   object        \n",
      " 33  ER_ED_VISIT   22714 non-null   object        \n",
      " 34  ALLERGIES     98986 non-null   object        \n",
      "dtypes: datetime64[ns](6), float64(5), int64(2), object(22)\n",
      "memory usage: 54.8+ MB\n"
     ]
    }
   ],
   "source": [
    "main_subset.info()"
   ]
  },
  {
   "cell_type": "markdown",
   "id": "281a7ba3",
   "metadata": {},
   "source": [
    "## Steps for main_df prior to merging into one main df with vax_df and symp_df"
   ]
  },
  {
   "cell_type": "markdown",
   "id": "df406c35",
   "metadata": {},
   "source": [
    "Since this is the main dataframe, we will merge the other smaller dataframes vax_df and symp_df on the unique key VAERS_ID.\n",
    "\n",
    "We will then perform EDA analyses (in another notebook) on the combined dataframe to explore the relationships between the different variables. \n",
    "\n",
    "\n",
    "Therefore the steps that will be included in the pipeline for main_df will be as follows:  \n",
    "1. Convert date columns to datetime format \n",
    "2. Subset main_df by selecting rows with RECVDATE less than 1 Apr 2021 (i.e dataset date range will be from 1 Jan 2021 to 31 Mar 2021)   \n",
    "3. Merge into 1 main dataframe via 2 steps:  \n",
    "  - Step1: merge main_df with vax_df on the unique key 'VAERS_ID', \n",
    "  - Step2: then merge with symp_df on the unique key 'VAERS_ID' \n",
    " "
   ]
  },
  {
   "cell_type": "code",
   "execution_count": null,
   "id": "b45cd53c",
   "metadata": {},
   "outputs": [],
   "source": []
  }
 ],
 "metadata": {
  "hide_input": false,
  "kernelspec": {
   "display_name": "Python 3 (ipykernel)",
   "language": "python",
   "name": "python3"
  },
  "language_info": {
   "codemirror_mode": {
    "name": "ipython",
    "version": 3
   },
   "file_extension": ".py",
   "mimetype": "text/x-python",
   "name": "python",
   "nbconvert_exporter": "python",
   "pygments_lexer": "ipython3",
   "version": "3.7.11"
  },
  "toc": {
   "base_numbering": 1,
   "nav_menu": {},
   "number_sections": true,
   "sideBar": true,
   "skip_h1_title": false,
   "title_cell": "Table of Contents",
   "title_sidebar": "Contents",
   "toc_cell": true,
   "toc_position": {
    "height": "calc(100% - 180px)",
    "left": "10px",
    "top": "150px",
    "width": "228.825px"
   },
   "toc_section_display": true,
   "toc_window_display": true
  }
 },
 "nbformat": 4,
 "nbformat_minor": 5
}
